{
 "cells": [
  {
   "cell_type": "code",
   "execution_count": 0,
   "metadata": {
    "application/vnd.databricks.v1+cell": {
     "cellMetadata": {},
     "inputWidgets": {},
     "nuid": "526558fc-ef64-4b62-9031-e57ea15a5a4d",
     "showTitle": false,
     "title": ""
    }
   },
   "outputs": [],
   "source": [
    "import requests\n",
    "import json\n",
    "\n",
    "\n",
    "UPLOAD_API_TOKEN = dbutils.secrets.get(scope=\"key-vault-secrets\",key=\"upload-api-accesstoken\")\n",
    "\n",
    "blob_storage_key = dbutils.secrets.get(scope=\"key-vault-secrets\",key=\"blob-storage-key\")\n",
    "\n",
    "list_to_upload = [\n",
    "                    {\n",
    "                        \"fromObjectId\": 4051,\n",
    "                        \"toObjectId\": 7926151875,\n",
    "                        \"category\": \"HUBSPOT_DEFINED\",\n",
    "                        \"definitionId\": 1\n",
    "                    },\n",
    "                    {\n",
    "                        \"fromObjectId\": 4101,\n",
    "                        \"toObjectId\": 7926225366,\n",
    "                        \"category\": \"HUBSPOT_DEFINED\",\n",
    "                        \"definitionId\": 1\n",
    "                    },\n",
    "                    {\n",
    "                        \"fromObjectId\": 4151,\n",
    "                        \"toObjectId\": 7926682082,\n",
    "                        \"category\": \"HUBSPOT_DEFINED\",\n",
    "                        \"definitionId\": 1\n",
    "                    }\n",
    "]\n",
    "\n",
    "# Convert the contact data to JSON format\n",
    "data = json.dumps(list_to_upload)\n",
    "\n",
    "# Set up the request headers\n",
    "headers = {\n",
    "    'Content-Type': 'application/json',\n",
    "    'Authorization': 'Bearer ' + UPLOAD_API_TOKEN\n",
    "}\n",
    "\n",
    "# Make the API request\n",
    "response = requests.put(url, headers=headers, data=data)\n",
    "\n",
    "# Print the response status code and content\n",
    "if response.status_code == 204:\n",
    "    print(\"Associations weree successfully created in Hubspot.\") \n",
    "else:\n",
    "    print(\"An error occurred while importing contacts to Hubspot. Status code: \", response.status_code, response.content)"
   ]
  }
 ],
 "metadata": {
  "application/vnd.databricks.v1+notebook": {
   "dashboards": [],
   "language": "python",
   "notebookMetadata": {
    "pythonIndentUnit": 4
   },
   "notebookName": "associations",
   "widgets": {}
  }
 },
 "nbformat": 4,
 "nbformat_minor": 0
}
