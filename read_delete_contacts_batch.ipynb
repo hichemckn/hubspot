{
 "cells": [
  {
   "cell_type": "code",
   "execution_count": 0,
   "metadata": {
    "application/vnd.databricks.v1+cell": {
     "cellMetadata": {
      "byteLimit": 2048000,
      "rowLimit": 10000
     },
     "inputWidgets": {},
     "nuid": "f881d3f8-21a1-43ff-bcc2-f64b66965905",
     "showTitle": false,
     "title": ""
    }
   },
   "outputs": [
    {
     "output_type": "display_data",
     "data": {
      "text/html": [
       "<style scoped>\n",
       "  .ansiout {\n",
       "    display: block;\n",
       "    unicode-bidi: embed;\n",
       "    white-space: pre-wrap;\n",
       "    word-wrap: break-word;\n",
       "    word-break: break-all;\n",
       "    font-family: \"Source Code Pro\", \"Menlo\", monospace;;\n",
       "    font-size: 13px;\n",
       "    color: #555;\n",
       "    margin-left: 4px;\n",
       "    line-height: 19px;\n",
       "  }\n",
       "</style>\n",
       "<div class=\"ansiout\">Python interpreter will be restarted.\n",
       "Collecting hubspot\n",
       "  Downloading hubspot-0.1.14dev.tar.gz (6.1 kB)\n",
       "Building wheels for collected packages: hubspot\n",
       "  Building wheel for hubspot (setup.py): started\n",
       "  Building wheel for hubspot (setup.py): finished with status &#39;done&#39;\n",
       "  Created wheel for hubspot: filename=hubspot-0.1.14.dev0-py3-none-any.whl size=10460 sha256=39666434d8a8a1a84d373cdb6bc1a12bc567f08412b9ba1802721862822283f9\n",
       "  Stored in directory: /root/.cache/pip/wheels/c9/33/17/099d81e765584c9cf57e3624e5cb300a8f3d21f57b577098a1\n",
       "Successfully built hubspot\n",
       "Installing collected packages: hubspot\n",
       "Successfully installed hubspot-0.1.14.dev0\n",
       "WARNING: You are using pip version 21.0.1; however, version 23.1.2 is available.\n",
       "You should consider upgrading via the &#39;/local_disk0/.ephemeral_nfs/envs/pythonEnv-89e9181c-3031-4fc9-9d8d-4c77a06f6e0b/bin/python -m pip install --upgrade pip&#39; command.\n",
       "Python interpreter will be restarted.\n",
       "</div>"
      ]
     },
     "metadata": {
      "application/vnd.databricks.v1+output": {
       "addedWidgets": {},
       "arguments": {},
       "data": "<div class=\"ansiout\">Python interpreter will be restarted.\nCollecting hubspot\n  Downloading hubspot-0.1.14dev.tar.gz (6.1 kB)\nBuilding wheels for collected packages: hubspot\n  Building wheel for hubspot (setup.py): started\n  Building wheel for hubspot (setup.py): finished with status &#39;done&#39;\n  Created wheel for hubspot: filename=hubspot-0.1.14.dev0-py3-none-any.whl size=10460 sha256=39666434d8a8a1a84d373cdb6bc1a12bc567f08412b9ba1802721862822283f9\n  Stored in directory: /root/.cache/pip/wheels/c9/33/17/099d81e765584c9cf57e3624e5cb300a8f3d21f57b577098a1\nSuccessfully built hubspot\nInstalling collected packages: hubspot\nSuccessfully installed hubspot-0.1.14.dev0\nWARNING: You are using pip version 21.0.1; however, version 23.1.2 is available.\nYou should consider upgrading via the &#39;/local_disk0/.ephemeral_nfs/envs/pythonEnv-89e9181c-3031-4fc9-9d8d-4c77a06f6e0b/bin/python -m pip install --upgrade pip&#39; command.\nPython interpreter will be restarted.\n</div>",
       "datasetInfos": [],
       "metadata": {},
       "removedWidgets": [],
       "type": "html"
      }
     },
     "output_type": "display_data"
    }
   ],
   "source": [
    "pip install hubspot"
   ]
  },
  {
   "cell_type": "code",
   "execution_count": 0,
   "metadata": {
    "application/vnd.databricks.v1+cell": {
     "cellMetadata": {
      "byteLimit": 2048000,
      "rowLimit": 10000
     },
     "inputWidgets": {},
     "nuid": "a82a2c5a-fc6d-43c0-8418-e72afd0cad33",
     "showTitle": false,
     "title": ""
    }
   },
   "outputs": [
    {
     "output_type": "display_data",
     "data": {
      "text/html": [
       "<style scoped>\n",
       "  .ansiout {\n",
       "    display: block;\n",
       "    unicode-bidi: embed;\n",
       "    white-space: pre-wrap;\n",
       "    word-wrap: break-word;\n",
       "    word-break: break-all;\n",
       "    font-family: \"Source Code Pro\", \"Menlo\", monospace;;\n",
       "    font-size: 13px;\n",
       "    color: #555;\n",
       "    margin-left: 4px;\n",
       "    line-height: 19px;\n",
       "  }\n",
       "</style>\n",
       "<div class=\"ansiout\">Python interpreter will be restarted.\n",
       "Collecting hubspot-api-client\n",
       "  Downloading hubspot_api_client-8.0.0-py3-none-any.whl (3.4 MB)\n",
       "Requirement already satisfied: six&gt;=1.10 in /databricks/python3/lib/python3.8/site-packages (from hubspot-api-client) (1.15.0)\n",
       "Requirement already satisfied: python-dateutil in /databricks/python3/lib/python3.8/site-packages (from hubspot-api-client) (2.8.1)\n",
       "Requirement already satisfied: certifi in /databricks/python3/lib/python3.8/site-packages (from hubspot-api-client) (2020.12.5)\n",
       "Requirement already satisfied: urllib3&gt;=1.15 in /databricks/python3/lib/python3.8/site-packages (from hubspot-api-client) (1.25.11)\n",
       "Installing collected packages: hubspot-api-client\n",
       "Successfully installed hubspot-api-client-8.0.0\n",
       "WARNING: You are using pip version 21.0.1; however, version 23.1.2 is available.\n",
       "You should consider upgrading via the &#39;/local_disk0/.ephemeral_nfs/envs/pythonEnv-89e9181c-3031-4fc9-9d8d-4c77a06f6e0b/bin/python -m pip install --upgrade pip&#39; command.\n",
       "Python interpreter will be restarted.\n",
       "</div>"
      ]
     },
     "metadata": {
      "application/vnd.databricks.v1+output": {
       "addedWidgets": {},
       "arguments": {},
       "data": "<div class=\"ansiout\">Python interpreter will be restarted.\nCollecting hubspot-api-client\n  Downloading hubspot_api_client-8.0.0-py3-none-any.whl (3.4 MB)\nRequirement already satisfied: six&gt;=1.10 in /databricks/python3/lib/python3.8/site-packages (from hubspot-api-client) (1.15.0)\nRequirement already satisfied: python-dateutil in /databricks/python3/lib/python3.8/site-packages (from hubspot-api-client) (2.8.1)\nRequirement already satisfied: certifi in /databricks/python3/lib/python3.8/site-packages (from hubspot-api-client) (2020.12.5)\nRequirement already satisfied: urllib3&gt;=1.15 in /databricks/python3/lib/python3.8/site-packages (from hubspot-api-client) (1.25.11)\nInstalling collected packages: hubspot-api-client\nSuccessfully installed hubspot-api-client-8.0.0\nWARNING: You are using pip version 21.0.1; however, version 23.1.2 is available.\nYou should consider upgrading via the &#39;/local_disk0/.ephemeral_nfs/envs/pythonEnv-89e9181c-3031-4fc9-9d8d-4c77a06f6e0b/bin/python -m pip install --upgrade pip&#39; command.\nPython interpreter will be restarted.\n</div>",
       "datasetInfos": [],
       "metadata": {},
       "removedWidgets": [],
       "type": "html"
      }
     },
     "output_type": "display_data"
    }
   ],
   "source": [
    "pip install hubspot-api-client"
   ]
  },
  {
   "cell_type": "code",
   "execution_count": 0,
   "metadata": {
    "application/vnd.databricks.v1+cell": {
     "cellMetadata": {
      "byteLimit": 2048000,
      "rowLimit": 10000
     },
     "inputWidgets": {},
     "nuid": "ef931573-b360-4e21-9ad8-17a23152f2a3",
     "showTitle": false,
     "title": ""
    }
   },
   "outputs": [
    {
     "output_type": "display_data",
     "data": {
      "text/html": [
       "<style scoped>\n",
       "  .ansiout {\n",
       "    display: block;\n",
       "    unicode-bidi: embed;\n",
       "    white-space: pre-wrap;\n",
       "    word-wrap: break-word;\n",
       "    word-break: break-all;\n",
       "    font-family: \"Source Code Pro\", \"Menlo\", monospace;;\n",
       "    font-size: 13px;\n",
       "    color: #555;\n",
       "    margin-left: 4px;\n",
       "    line-height: 19px;\n",
       "  }\n",
       "</style>\n",
       "<div class=\"ansiout\"></div>"
      ]
     },
     "metadata": {
      "application/vnd.databricks.v1+output": {
       "addedWidgets": {},
       "arguments": {},
       "data": "<div class=\"ansiout\"></div>",
       "datasetInfos": [],
       "metadata": {},
       "removedWidgets": [],
       "type": "html"
      }
     },
     "output_type": "display_data"
    }
   ],
   "source": [
    "import hubspot\n",
    "from pprint import pprint\n",
    "from hubspot.crm.contacts import BatchInputSimplePublicObjectId, ApiException"
   ]
  },
  {
   "cell_type": "code",
   "execution_count": 0,
   "metadata": {
    "application/vnd.databricks.v1+cell": {
     "cellMetadata": {
      "byteLimit": 2048000,
      "rowLimit": 10000
     },
     "inputWidgets": {},
     "nuid": "5ddca67d-4878-41e4-9d40-4475ea93f07f",
     "showTitle": false,
     "title": ""
    }
   },
   "outputs": [
    {
     "output_type": "display_data",
     "data": {
      "text/html": [
       "<style scoped>\n",
       "  .ansiout {\n",
       "    display: block;\n",
       "    unicode-bidi: embed;\n",
       "    white-space: pre-wrap;\n",
       "    word-wrap: break-word;\n",
       "    word-break: break-all;\n",
       "    font-family: \"Source Code Pro\", \"Menlo\", monospace;;\n",
       "    font-size: 13px;\n",
       "    color: #555;\n",
       "    margin-left: 4px;\n",
       "    line-height: 19px;\n",
       "  }\n",
       "</style>\n",
       "<div class=\"ansiout\"></div>"
      ]
     },
     "metadata": {
      "application/vnd.databricks.v1+output": {
       "addedWidgets": {},
       "arguments": {},
       "data": "<div class=\"ansiout\"></div>",
       "datasetInfos": [],
       "metadata": {},
       "removedWidgets": [],
       "type": "html"
      }
     },
     "output_type": "display_data"
    }
   ],
   "source": [
    "api_read_key = dbutils.secrets.get(scope=\"key-vault-secrets\",key=\"api-accesstoken\")\n",
    "client_read = hubspot.Client.create(access_token=api_read_key)"
   ]
  },
  {
   "cell_type": "code",
   "execution_count": 0,
   "metadata": {
    "application/vnd.databricks.v1+cell": {
     "cellMetadata": {
      "byteLimit": 2048000,
      "rowLimit": 10000
     },
     "inputWidgets": {},
     "nuid": "186692cd-f100-40ad-b939-7343d7108c6f",
     "showTitle": false,
     "title": ""
    }
   },
   "outputs": [
    {
     "output_type": "display_data",
     "data": {
      "text/html": [
       "<style scoped>\n",
       "  .ansiout {\n",
       "    display: block;\n",
       "    unicode-bidi: embed;\n",
       "    white-space: pre-wrap;\n",
       "    word-wrap: break-word;\n",
       "    word-break: break-all;\n",
       "    font-family: \"Source Code Pro\", \"Menlo\", monospace;;\n",
       "    font-size: 13px;\n",
       "    color: #555;\n",
       "    margin-left: 4px;\n",
       "    line-height: 19px;\n",
       "  }\n",
       "</style>\n",
       "<div class=\"ansiout\"></div>"
      ]
     },
     "metadata": {
      "application/vnd.databricks.v1+output": {
       "addedWidgets": {},
       "arguments": {},
       "data": "<div class=\"ansiout\"></div>",
       "datasetInfos": [],
       "metadata": {},
       "removedWidgets": [],
       "type": "html"
      }
     },
     "output_type": "display_data"
    }
   ],
   "source": [
    "api_upload_key = dbutils.secrets.get(scope=\"key-vault-secrets\",key=\"upload-api-accesstoken\")\n",
    "client_upload = hubspot.Client.create(access_token=api_upload_key)"
   ]
  },
  {
   "cell_type": "code",
   "execution_count": 0,
   "metadata": {
    "application/vnd.databricks.v1+cell": {
     "cellMetadata": {
      "byteLimit": 2048000,
      "rowLimit": 10000
     },
     "inputWidgets": {},
     "nuid": "129fede1-7bdc-4547-a0a7-8b04c912339e",
     "showTitle": false,
     "title": ""
    }
   },
   "outputs": [
    {
     "output_type": "display_data",
     "data": {
      "text/html": [
       "<style scoped>\n",
       "  .ansiout {\n",
       "    display: block;\n",
       "    unicode-bidi: embed;\n",
       "    white-space: pre-wrap;\n",
       "    word-wrap: break-word;\n",
       "    word-break: break-all;\n",
       "    font-family: \"Source Code Pro\", \"Menlo\", monospace;;\n",
       "    font-size: 13px;\n",
       "    color: #555;\n",
       "    margin-left: 4px;\n",
       "    line-height: 19px;\n",
       "  }\n",
       "</style>\n",
       "<div class=\"ansiout\"></div>"
      ]
     },
     "metadata": {
      "application/vnd.databricks.v1+output": {
       "addedWidgets": {},
       "arguments": {},
       "data": "<div class=\"ansiout\"></div>",
       "datasetInfos": [],
       "metadata": {},
       "removedWidgets": [],
       "type": "html"
      }
     },
     "output_type": "display_data"
    }
   ],
   "source": [
    "def get_contacts_batches_list(client_read):\n",
    "    batches_list = []\n",
    "    next_after = None\n",
    "    while True:\n",
    "        api_response = client_read.crm.contacts.basic_api.get_page(limit=100, archived=False, after=next_after)\n",
    "        paging = api_response.paging\n",
    "        results = api_response.results \n",
    "        if results == []:\n",
    "            break\n",
    "        else:\n",
    "            if paging != None:   \n",
    "                next_after = api_response.paging.next.after\n",
    "                contacts_batch = []     \n",
    "                for c in results:\n",
    "                    contacts_batch.append(c.id)\n",
    "                batches_list.append(contacts_batch)\n",
    "            else:\n",
    "                contacts_batch = []     \n",
    "                for c in results:\n",
    "                    contacts_batch.append(c.id)\n",
    "                batches_list.append(contacts_batch)\n",
    "                break\n",
    "    return batches_list"
   ]
  },
  {
   "cell_type": "code",
   "execution_count": 0,
   "metadata": {
    "application/vnd.databricks.v1+cell": {
     "cellMetadata": {
      "byteLimit": 2048000,
      "rowLimit": 10000
     },
     "inputWidgets": {},
     "nuid": "a418b603-5b6f-44c6-bc31-d6ab4fe25617",
     "showTitle": false,
     "title": ""
    }
   },
   "outputs": [
    {
     "output_type": "display_data",
     "data": {
      "text/html": [
       "<style scoped>\n",
       "  .ansiout {\n",
       "    display: block;\n",
       "    unicode-bidi: embed;\n",
       "    white-space: pre-wrap;\n",
       "    word-wrap: break-word;\n",
       "    word-break: break-all;\n",
       "    font-family: \"Source Code Pro\", \"Menlo\", monospace;;\n",
       "    font-size: 13px;\n",
       "    color: #555;\n",
       "    margin-left: 4px;\n",
       "    line-height: 19px;\n",
       "  }\n",
       "</style>\n",
       "<div class=\"ansiout\"></div>"
      ]
     },
     "metadata": {
      "application/vnd.databricks.v1+output": {
       "addedWidgets": {},
       "arguments": {},
       "data": "<div class=\"ansiout\"></div>",
       "datasetInfos": [],
       "metadata": {},
       "removedWidgets": [],
       "type": "html"
      }
     },
     "output_type": "display_data"
    }
   ],
   "source": [
    "def delete_batch_contacts(client_upload, batch_hubspot):\n",
    "    batch_input_simple_public_object_id = BatchInputSimplePublicObjectId(inputs=batch_hubspot)\n",
    "    try:\n",
    "        api_response = client_upload.crm.contacts.batch_api.archive(batch_input_simple_public_object_id=batch_input_simple_public_object_id)\n",
    "        pprint(api_response)\n",
    "    except ApiException as e:\n",
    "        print(\"Exception when calling batch_api->archive: %s\\n\" % e)"
   ]
  },
  {
   "cell_type": "code",
   "execution_count": 0,
   "metadata": {
    "application/vnd.databricks.v1+cell": {
     "cellMetadata": {
      "byteLimit": 2048000,
      "rowLimit": 10000
     },
     "inputWidgets": {},
     "nuid": "3a827b53-8cf6-474a-8642-05c6d0fe08a0",
     "showTitle": false,
     "title": ""
    }
   },
   "outputs": [
    {
     "output_type": "display_data",
     "data": {
      "text/html": [
       "<style scoped>\n",
       "  .ansiout {\n",
       "    display: block;\n",
       "    unicode-bidi: embed;\n",
       "    white-space: pre-wrap;\n",
       "    word-wrap: break-word;\n",
       "    word-break: break-all;\n",
       "    font-family: \"Source Code Pro\", \"Menlo\", monospace;;\n",
       "    font-size: 13px;\n",
       "    color: #555;\n",
       "    margin-left: 4px;\n",
       "    line-height: 19px;\n",
       "  }\n",
       "</style>\n",
       "<div class=\"ansiout\"></div>"
      ]
     },
     "metadata": {
      "application/vnd.databricks.v1+output": {
       "addedWidgets": {},
       "arguments": {},
       "data": "<div class=\"ansiout\"></div>",
       "datasetInfos": [],
       "metadata": {},
       "removedWidgets": [],
       "type": "html"
      }
     },
     "output_type": "display_data"
    }
   ],
   "source": [
    "def get_hubspot_delete_batch(contacts_batch):\n",
    "    batch_hubspot = []\n",
    "    for i in batch:\n",
    "        value = {\"id\":i}\n",
    "        batch_hubspot.append(value)\n",
    "    return batch_hubspot"
   ]
  },
  {
   "cell_type": "code",
   "execution_count": 0,
   "metadata": {
    "application/vnd.databricks.v1+cell": {
     "cellMetadata": {
      "byteLimit": 2048000,
      "rowLimit": 10000
     },
     "inputWidgets": {},
     "nuid": "fd695f17-c70a-424a-b83b-b0ea587014e0",
     "showTitle": false,
     "title": ""
    }
   },
   "outputs": [
    {
     "output_type": "display_data",
     "data": {
      "text/html": [
       "<style scoped>\n",
       "  .ansiout {\n",
       "    display: block;\n",
       "    unicode-bidi: embed;\n",
       "    white-space: pre-wrap;\n",
       "    word-wrap: break-word;\n",
       "    word-break: break-all;\n",
       "    font-family: \"Source Code Pro\", \"Menlo\", monospace;;\n",
       "    font-size: 13px;\n",
       "    color: #555;\n",
       "    margin-left: 4px;\n",
       "    line-height: 19px;\n",
       "  }\n",
       "</style>\n",
       "<div class=\"ansiout\"></div>"
      ]
     },
     "metadata": {
      "application/vnd.databricks.v1+output": {
       "addedWidgets": {},
       "arguments": {},
       "data": "<div class=\"ansiout\"></div>",
       "datasetInfos": [],
       "metadata": {},
       "removedWidgets": [],
       "type": "html"
      }
     },
     "output_type": "display_data"
    }
   ],
   "source": [
    "contacts_batches_list = get_contacts_batches_list(client_read)"
   ]
  },
  {
   "cell_type": "code",
   "execution_count": 0,
   "metadata": {
    "application/vnd.databricks.v1+cell": {
     "cellMetadata": {
      "byteLimit": 2048000,
      "rowLimit": 10000
     },
     "inputWidgets": {},
     "nuid": "daa8d2eb-9122-4087-8f17-bac5134fae00",
     "showTitle": false,
     "title": ""
    }
   },
   "outputs": [
    {
     "output_type": "display_data",
     "data": {
      "text/html": [
       "<style scoped>\n",
       "  .ansiout {\n",
       "    display: block;\n",
       "    unicode-bidi: embed;\n",
       "    white-space: pre-wrap;\n",
       "    word-wrap: break-word;\n",
       "    word-break: break-all;\n",
       "    font-family: \"Source Code Pro\", \"Menlo\", monospace;;\n",
       "    font-size: 13px;\n",
       "    color: #555;\n",
       "    margin-left: 4px;\n",
       "    line-height: 19px;\n",
       "  }\n",
       "</style>\n",
       "<div class=\"ansiout\">None\n",
       "None\n",
       "None\n",
       "None\n",
       "None\n",
       "None\n",
       "None\n",
       "None\n",
       "None\n",
       "None\n",
       "None\n",
       "None\n",
       "None\n",
       "None\n",
       "None\n",
       "None\n",
       "None\n",
       "None\n",
       "None\n",
       "None\n",
       "None\n",
       "None\n",
       "None\n",
       "None\n",
       "None\n",
       "None\n",
       "None\n",
       "None\n",
       "None\n",
       "None\n",
       "None\n",
       "None\n",
       "None\n",
       "None\n",
       "None\n",
       "None\n",
       "None\n",
       "None\n",
       "None\n",
       "None\n",
       "None\n",
       "None\n",
       "None\n",
       "None\n",
       "None\n",
       "None\n",
       "None\n",
       "None\n",
       "None\n",
       "None\n",
       "None\n",
       "None\n",
       "None\n",
       "None\n",
       "None\n",
       "None\n",
       "None\n",
       "None\n",
       "None\n",
       "None\n",
       "None\n",
       "None\n",
       "None\n",
       "None\n",
       "None\n",
       "None\n",
       "None\n",
       "None\n",
       "None\n",
       "None\n",
       "None\n",
       "None\n",
       "None\n",
       "None\n",
       "None\n",
       "None\n",
       "None\n",
       "None\n",
       "None\n",
       "None\n",
       "None\n",
       "None\n",
       "None\n",
       "None\n",
       "None\n",
       "None\n",
       "None\n",
       "None\n",
       "None\n",
       "None\n",
       "None\n",
       "None\n",
       "None\n",
       "None\n",
       "None\n",
       "</div>"
      ]
     },
     "metadata": {
      "application/vnd.databricks.v1+output": {
       "addedWidgets": {},
       "arguments": {},
       "data": "<div class=\"ansiout\">None\nNone\nNone\nNone\nNone\nNone\nNone\nNone\nNone\nNone\nNone\nNone\nNone\nNone\nNone\nNone\nNone\nNone\nNone\nNone\nNone\nNone\nNone\nNone\nNone\nNone\nNone\nNone\nNone\nNone\nNone\nNone\nNone\nNone\nNone\nNone\nNone\nNone\nNone\nNone\nNone\nNone\nNone\nNone\nNone\nNone\nNone\nNone\nNone\nNone\nNone\nNone\nNone\nNone\nNone\nNone\nNone\nNone\nNone\nNone\nNone\nNone\nNone\nNone\nNone\nNone\nNone\nNone\nNone\nNone\nNone\nNone\nNone\nNone\nNone\nNone\nNone\nNone\nNone\nNone\nNone\nNone\nNone\nNone\nNone\nNone\nNone\nNone\nNone\nNone\nNone\nNone\nNone\nNone\nNone\n</div>",
       "datasetInfos": [],
       "metadata": {},
       "removedWidgets": [],
       "type": "html"
      }
     },
     "output_type": "display_data"
    }
   ],
   "source": [
    "for batch in contacts_batches_list:\n",
    "    batch_hubspot = get_hubspot_delete_batch(batch)\n",
    "    delete_batch_contacts(client_upload, batch_hubspot)"
   ]
  },
  {
   "cell_type": "code",
   "execution_count": 0,
   "metadata": {
    "application/vnd.databricks.v1+cell": {
     "cellMetadata": {
      "byteLimit": 2048000,
      "rowLimit": 10000
     },
     "inputWidgets": {},
     "nuid": "10f8066f-40a1-4d54-ac57-b07181da4ee4",
     "showTitle": false,
     "title": ""
    }
   },
   "outputs": [
    {
     "output_type": "display_data",
     "data": {
      "text/html": [
       "<style scoped>\n",
       "  .ansiout {\n",
       "    display: block;\n",
       "    unicode-bidi: embed;\n",
       "    white-space: pre-wrap;\n",
       "    word-wrap: break-word;\n",
       "    word-break: break-all;\n",
       "    font-family: \"Source Code Pro\", \"Menlo\", monospace;;\n",
       "    font-size: 13px;\n",
       "    color: #555;\n",
       "    margin-left: 4px;\n",
       "    line-height: 19px;\n",
       "  }\n",
       "</style>\n",
       "<div class=\"ansiout\"></div>"
      ]
     },
     "metadata": {
      "application/vnd.databricks.v1+output": {
       "addedWidgets": {},
       "arguments": {},
       "data": "<div class=\"ansiout\"></div>",
       "datasetInfos": [],
       "metadata": {},
       "removedWidgets": [],
       "type": "html"
      }
     },
     "output_type": "display_data"
    }
   ],
   "source": [
    "# for batch in contacts_batches_list:\n",
    "#     batch_hubspot = []\n",
    "#     for i in batch:\n",
    "#         value = {\"id\":i}\n",
    "#         batch_hubspot.append(value)\n",
    "#     delete_batch_contacts(client_upload, batch_hubspot)"
   ]
  }
 ],
 "metadata": {
  "application/vnd.databricks.v1+notebook": {
   "dashboards": [],
   "language": "python",
   "notebookMetadata": {
    "pythonIndentUnit": 4
   },
   "notebookName": "read_delete_contacts_batch",
   "widgets": {}
  }
 },
 "nbformat": 4,
 "nbformat_minor": 0
}
