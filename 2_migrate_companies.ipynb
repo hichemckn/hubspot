{
 "cells": [
  {
   "cell_type": "code",
   "execution_count": 0,
   "metadata": {
    "application/vnd.databricks.v1+cell": {
     "cellMetadata": {
      "byteLimit": 2048000,
      "rowLimit": 10000
     },
     "inputWidgets": {},
     "nuid": "a8cfcdf7-991a-48e3-aab9-192fa56b44f6",
     "showTitle": false,
     "title": ""
    }
   },
   "outputs": [
    {
     "output_type": "display_data",
     "data": {
      "text/html": [
       "<style scoped>\n",
       "  .ansiout {\n",
       "    display: block;\n",
       "    unicode-bidi: embed;\n",
       "    white-space: pre-wrap;\n",
       "    word-wrap: break-word;\n",
       "    word-break: break-all;\n",
       "    font-family: \"Source Code Pro\", \"Menlo\", monospace;;\n",
       "    font-size: 13px;\n",
       "    color: #555;\n",
       "    margin-left: 4px;\n",
       "    line-height: 19px;\n",
       "  }\n",
       "</style>\n",
       "<div class=\"ansiout\">Python interpreter will be restarted.\n",
       "Collecting hubspot\n",
       "  Using cached hubspot-0.1.14.dev0-py3-none-any.whl\n",
       "Installing collected packages: hubspot\n",
       "Successfully installed hubspot-0.1.14.dev0\n",
       "WARNING: You are using pip version 21.0.1; however, version 23.1.2 is available.\n",
       "You should consider upgrading via the &#39;/local_disk0/.ephemeral_nfs/envs/pythonEnv-3023b221-cbf0-4335-bc1c-434fae02e819/bin/python -m pip install --upgrade pip&#39; command.\n",
       "Python interpreter will be restarted.\n",
       "</div>"
      ]
     },
     "metadata": {
      "application/vnd.databricks.v1+output": {
       "addedWidgets": {},
       "arguments": {},
       "data": "<div class=\"ansiout\">Python interpreter will be restarted.\nCollecting hubspot\n  Using cached hubspot-0.1.14.dev0-py3-none-any.whl\nInstalling collected packages: hubspot\nSuccessfully installed hubspot-0.1.14.dev0\nWARNING: You are using pip version 21.0.1; however, version 23.1.2 is available.\nYou should consider upgrading via the &#39;/local_disk0/.ephemeral_nfs/envs/pythonEnv-3023b221-cbf0-4335-bc1c-434fae02e819/bin/python -m pip install --upgrade pip&#39; command.\nPython interpreter will be restarted.\n</div>",
       "datasetInfos": [],
       "metadata": {},
       "removedWidgets": [],
       "type": "html"
      }
     },
     "output_type": "display_data"
    }
   ],
   "source": [
    "pip install hubspot"
   ]
  },
  {
   "cell_type": "code",
   "execution_count": 0,
   "metadata": {
    "application/vnd.databricks.v1+cell": {
     "cellMetadata": {
      "byteLimit": 2048000,
      "rowLimit": 10000
     },
     "inputWidgets": {},
     "nuid": "bba0bb35-cdb8-4b10-88d3-5e800b74a324",
     "showTitle": false,
     "title": ""
    }
   },
   "outputs": [
    {
     "output_type": "display_data",
     "data": {
      "text/html": [
       "<style scoped>\n",
       "  .ansiout {\n",
       "    display: block;\n",
       "    unicode-bidi: embed;\n",
       "    white-space: pre-wrap;\n",
       "    word-wrap: break-word;\n",
       "    word-break: break-all;\n",
       "    font-family: \"Source Code Pro\", \"Menlo\", monospace;;\n",
       "    font-size: 13px;\n",
       "    color: #555;\n",
       "    margin-left: 4px;\n",
       "    line-height: 19px;\n",
       "  }\n",
       "</style>\n",
       "<div class=\"ansiout\">Python interpreter will be restarted.\n",
       "Collecting hubspot-api-client\n",
       "  Using cached hubspot_api_client-8.0.0-py3-none-any.whl (3.4 MB)\n",
       "Requirement already satisfied: six&gt;=1.10 in /databricks/python3/lib/python3.8/site-packages (from hubspot-api-client) (1.15.0)\n",
       "Requirement already satisfied: python-dateutil in /databricks/python3/lib/python3.8/site-packages (from hubspot-api-client) (2.8.1)\n",
       "Requirement already satisfied: certifi in /databricks/python3/lib/python3.8/site-packages (from hubspot-api-client) (2020.12.5)\n",
       "Requirement already satisfied: urllib3&gt;=1.15 in /databricks/python3/lib/python3.8/site-packages (from hubspot-api-client) (1.25.11)\n",
       "Installing collected packages: hubspot-api-client\n",
       "Successfully installed hubspot-api-client-8.0.0\n",
       "WARNING: You are using pip version 21.0.1; however, version 23.1.2 is available.\n",
       "You should consider upgrading via the &#39;/local_disk0/.ephemeral_nfs/envs/pythonEnv-3023b221-cbf0-4335-bc1c-434fae02e819/bin/python -m pip install --upgrade pip&#39; command.\n",
       "Python interpreter will be restarted.\n",
       "</div>"
      ]
     },
     "metadata": {
      "application/vnd.databricks.v1+output": {
       "addedWidgets": {},
       "arguments": {},
       "data": "<div class=\"ansiout\">Python interpreter will be restarted.\nCollecting hubspot-api-client\n  Using cached hubspot_api_client-8.0.0-py3-none-any.whl (3.4 MB)\nRequirement already satisfied: six&gt;=1.10 in /databricks/python3/lib/python3.8/site-packages (from hubspot-api-client) (1.15.0)\nRequirement already satisfied: python-dateutil in /databricks/python3/lib/python3.8/site-packages (from hubspot-api-client) (2.8.1)\nRequirement already satisfied: certifi in /databricks/python3/lib/python3.8/site-packages (from hubspot-api-client) (2020.12.5)\nRequirement already satisfied: urllib3&gt;=1.15 in /databricks/python3/lib/python3.8/site-packages (from hubspot-api-client) (1.25.11)\nInstalling collected packages: hubspot-api-client\nSuccessfully installed hubspot-api-client-8.0.0\nWARNING: You are using pip version 21.0.1; however, version 23.1.2 is available.\nYou should consider upgrading via the &#39;/local_disk0/.ephemeral_nfs/envs/pythonEnv-3023b221-cbf0-4335-bc1c-434fae02e819/bin/python -m pip install --upgrade pip&#39; command.\nPython interpreter will be restarted.\n</div>",
       "datasetInfos": [],
       "metadata": {},
       "removedWidgets": [],
       "type": "html"
      }
     },
     "output_type": "display_data"
    }
   ],
   "source": [
    "pip install hubspot-api-client"
   ]
  },
  {
   "cell_type": "code",
   "execution_count": 0,
   "metadata": {
    "application/vnd.databricks.v1+cell": {
     "cellMetadata": {
      "byteLimit": 2048000,
      "rowLimit": 10000
     },
     "inputWidgets": {},
     "nuid": "7d7932fb-5441-4266-a7aa-5b80e168ddb6",
     "showTitle": false,
     "title": ""
    }
   },
   "outputs": [
    {
     "output_type": "display_data",
     "data": {
      "text/html": [
       "<style scoped>\n",
       "  .ansiout {\n",
       "    display: block;\n",
       "    unicode-bidi: embed;\n",
       "    white-space: pre-wrap;\n",
       "    word-wrap: break-word;\n",
       "    word-break: break-all;\n",
       "    font-family: \"Source Code Pro\", \"Menlo\", monospace;;\n",
       "    font-size: 13px;\n",
       "    color: #555;\n",
       "    margin-left: 4px;\n",
       "    line-height: 19px;\n",
       "  }\n",
       "</style>\n",
       "<div class=\"ansiout\"></div>"
      ]
     },
     "metadata": {
      "application/vnd.databricks.v1+output": {
       "addedWidgets": {},
       "arguments": {},
       "data": "<div class=\"ansiout\"></div>",
       "datasetInfos": [],
       "metadata": {},
       "removedWidgets": [],
       "type": "html"
      }
     },
     "output_type": "display_data"
    }
   ],
   "source": [
    "import pandas as pd"
   ]
  },
  {
   "cell_type": "code",
   "execution_count": 0,
   "metadata": {
    "application/vnd.databricks.v1+cell": {
     "cellMetadata": {
      "byteLimit": 2048000,
      "rowLimit": 10000
     },
     "inputWidgets": {},
     "nuid": "66c40bf1-932d-4c38-a0e8-b6807775c718",
     "showTitle": false,
     "title": ""
    }
   },
   "outputs": [
    {
     "output_type": "display_data",
     "data": {
      "text/html": [
       "<style scoped>\n",
       "  .ansiout {\n",
       "    display: block;\n",
       "    unicode-bidi: embed;\n",
       "    white-space: pre-wrap;\n",
       "    word-wrap: break-word;\n",
       "    word-break: break-all;\n",
       "    font-family: \"Source Code Pro\", \"Menlo\", monospace;;\n",
       "    font-size: 13px;\n",
       "    color: #555;\n",
       "    margin-left: 4px;\n",
       "    line-height: 19px;\n",
       "  }\n",
       "</style>\n",
       "<div class=\"ansiout\"></div>"
      ]
     },
     "metadata": {
      "application/vnd.databricks.v1+output": {
       "addedWidgets": {},
       "arguments": {},
       "data": "<div class=\"ansiout\"></div>",
       "datasetInfos": [],
       "metadata": {},
       "removedWidgets": [],
       "type": "html"
      }
     },
     "output_type": "display_data"
    }
   ],
   "source": [
    "export_companies = spark.read.csv('dbfs:/mnt/alphaplanexports/AdressenExport230712.csv', sep=';', header=True, encoding='latin1')"
   ]
  },
  {
   "cell_type": "code",
   "execution_count": 0,
   "metadata": {
    "application/vnd.databricks.v1+cell": {
     "cellMetadata": {
      "byteLimit": 2048000,
      "rowLimit": 10000
     },
     "inputWidgets": {},
     "nuid": "1447c46d-4ffc-49db-8921-e05513c18675",
     "showTitle": false,
     "title": ""
    }
   },
   "outputs": [
    {
     "output_type": "display_data",
     "data": {
      "text/html": [
       "<style scoped>\n",
       "  .ansiout {\n",
       "    display: block;\n",
       "    unicode-bidi: embed;\n",
       "    white-space: pre-wrap;\n",
       "    word-wrap: break-word;\n",
       "    word-break: break-all;\n",
       "    font-family: \"Source Code Pro\", \"Menlo\", monospace;;\n",
       "    font-size: 13px;\n",
       "    color: #555;\n",
       "    margin-left: 4px;\n",
       "    line-height: 19px;\n",
       "  }\n",
       "</style>\n",
       "<div class=\"ansiout\"></div>"
      ]
     },
     "metadata": {
      "application/vnd.databricks.v1+output": {
       "addedWidgets": {},
       "arguments": {},
       "data": "<div class=\"ansiout\"></div>",
       "datasetInfos": [],
       "metadata": {},
       "removedWidgets": [],
       "type": "html"
      }
     },
     "output_type": "display_data"
    }
   ],
   "source": [
    "# companies_df = pd.read_csv('/dbfs/mnt/alphaplanexports/AdressenExport230706.CSV', sep=';',  encoding='latin1')"
   ]
  },
  {
   "cell_type": "code",
   "execution_count": 0,
   "metadata": {
    "application/vnd.databricks.v1+cell": {
     "cellMetadata": {
      "byteLimit": 2048000,
      "rowLimit": 10000
     },
     "inputWidgets": {},
     "nuid": "32e21c86-073b-46f4-ba24-30acfa134fcc",
     "showTitle": false,
     "title": ""
    }
   },
   "outputs": [
    {
     "output_type": "display_data",
     "data": {
      "text/html": [
       "<style scoped>\n",
       "  .ansiout {\n",
       "    display: block;\n",
       "    unicode-bidi: embed;\n",
       "    white-space: pre-wrap;\n",
       "    word-wrap: break-word;\n",
       "    word-break: break-all;\n",
       "    font-family: \"Source Code Pro\", \"Menlo\", monospace;;\n",
       "    font-size: 13px;\n",
       "    color: #555;\n",
       "    margin-left: 4px;\n",
       "    line-height: 19px;\n",
       "  }\n",
       "</style>\n",
       "<div class=\"ansiout\"></div>"
      ]
     },
     "metadata": {
      "application/vnd.databricks.v1+output": {
       "addedWidgets": {},
       "arguments": {},
       "data": "<div class=\"ansiout\"></div>",
       "datasetInfos": [],
       "metadata": {},
       "removedWidgets": [],
       "type": "html"
      }
     },
     "output_type": "display_data"
    }
   ],
   "source": [
    "companies_df = export_companies.toPandas()"
   ]
  },
  {
   "cell_type": "code",
   "execution_count": 0,
   "metadata": {
    "application/vnd.databricks.v1+cell": {
     "cellMetadata": {
      "byteLimit": 2048000,
      "rowLimit": 10000
     },
     "inputWidgets": {},
     "nuid": "4094368c-d4ea-4904-9f93-dcb3c02be0f9",
     "showTitle": false,
     "title": ""
    }
   },
   "outputs": [
    {
     "output_type": "display_data",
     "data": {
      "text/html": [
       "<style scoped>\n",
       "  .ansiout {\n",
       "    display: block;\n",
       "    unicode-bidi: embed;\n",
       "    white-space: pre-wrap;\n",
       "    word-wrap: break-word;\n",
       "    word-break: break-all;\n",
       "    font-family: \"Source Code Pro\", \"Menlo\", monospace;;\n",
       "    font-size: 13px;\n",
       "    color: #555;\n",
       "    margin-left: 4px;\n",
       "    line-height: 19px;\n",
       "  }\n",
       "</style>\n",
       "<div class=\"ansiout\"></div>"
      ]
     },
     "metadata": {
      "application/vnd.databricks.v1+output": {
       "addedWidgets": {},
       "arguments": {},
       "data": "<div class=\"ansiout\"></div>",
       "datasetInfos": [],
       "metadata": {},
       "removedWidgets": [],
       "type": "html"
      }
     },
     "output_type": "display_data"
    }
   ],
   "source": [
    "companies_df = companies_df.drop('SuchName', axis=1)"
   ]
  },
  {
   "cell_type": "code",
   "execution_count": 0,
   "metadata": {
    "application/vnd.databricks.v1+cell": {
     "cellMetadata": {
      "byteLimit": 2048000,
      "rowLimit": 10000
     },
     "inputWidgets": {},
     "nuid": "ae97b44a-7c3e-46a4-a0b1-bb0feaade687",
     "showTitle": false,
     "title": ""
    }
   },
   "outputs": [
    {
     "output_type": "display_data",
     "data": {
      "text/html": [
       "<style scoped>\n",
       "  .ansiout {\n",
       "    display: block;\n",
       "    unicode-bidi: embed;\n",
       "    white-space: pre-wrap;\n",
       "    word-wrap: break-word;\n",
       "    word-break: break-all;\n",
       "    font-family: \"Source Code Pro\", \"Menlo\", monospace;;\n",
       "    font-size: 13px;\n",
       "    color: #555;\n",
       "    margin-left: 4px;\n",
       "    line-height: 19px;\n",
       "  }\n",
       "</style>\n",
       "<div class=\"ansiout\">Out[12]: (8455, 8431)</div>"
      ]
     },
     "metadata": {
      "application/vnd.databricks.v1+output": {
       "addedWidgets": {},
       "arguments": {},
       "data": "<div class=\"ansiout\">Out[12]: (8455, 8431)</div>",
       "datasetInfos": [],
       "metadata": {},
       "removedWidgets": [],
       "type": "html"
      }
     },
     "output_type": "display_data"
    }
   ],
   "source": [
    "len(companies_df), len(companies_df[companies_df['Name1'].notnull()])"
   ]
  },
  {
   "cell_type": "code",
   "execution_count": 0,
   "metadata": {
    "application/vnd.databricks.v1+cell": {
     "cellMetadata": {
      "byteLimit": 2048000,
      "rowLimit": 10000
     },
     "inputWidgets": {},
     "nuid": "f5a8495e-d23b-4c30-99b4-c07286b5604c",
     "showTitle": false,
     "title": ""
    }
   },
   "outputs": [
    {
     "output_type": "display_data",
     "data": {
      "text/html": [
       "<style scoped>\n",
       "  .ansiout {\n",
       "    display: block;\n",
       "    unicode-bidi: embed;\n",
       "    white-space: pre-wrap;\n",
       "    word-wrap: break-word;\n",
       "    word-break: break-all;\n",
       "    font-family: \"Source Code Pro\", \"Menlo\", monospace;;\n",
       "    font-size: 13px;\n",
       "    color: #555;\n",
       "    margin-left: 4px;\n",
       "    line-height: 19px;\n",
       "  }\n",
       "</style>\n",
       "<div class=\"ansiout\"></div>"
      ]
     },
     "metadata": {
      "application/vnd.databricks.v1+output": {
       "addedWidgets": {},
       "arguments": {},
       "data": "<div class=\"ansiout\"></div>",
       "datasetInfos": [],
       "metadata": {},
       "removedWidgets": [],
       "type": "html"
      }
     },
     "output_type": "display_data"
    }
   ],
   "source": [
    "def convert_scientific_notation(phone_value):\n",
    "    phone_string = str(phone_value)\n",
    "    if ('E+' in phone_string) or ('e+' in phone_string):\n",
    "        phone_string = phone_string.replace(',','.')\n",
    "        phone_float = float(phone_string)\n",
    "        return str(phone_float).split('.')[0]"
   ]
  },
  {
   "cell_type": "code",
   "execution_count": 0,
   "metadata": {
    "application/vnd.databricks.v1+cell": {
     "cellMetadata": {
      "byteLimit": 2048000,
      "rowLimit": 10000
     },
     "inputWidgets": {},
     "nuid": "84770cec-ff8b-4ab0-8b8c-5c8979ca9cda",
     "showTitle": false,
     "title": ""
    }
   },
   "outputs": [
    {
     "output_type": "display_data",
     "data": {
      "text/html": [
       "<style scoped>\n",
       "  .ansiout {\n",
       "    display: block;\n",
       "    unicode-bidi: embed;\n",
       "    white-space: pre-wrap;\n",
       "    word-wrap: break-word;\n",
       "    word-break: break-all;\n",
       "    font-family: \"Source Code Pro\", \"Menlo\", monospace;;\n",
       "    font-size: 13px;\n",
       "    color: #555;\n",
       "    margin-left: 4px;\n",
       "    line-height: 19px;\n",
       "  }\n",
       "</style>\n",
       "<div class=\"ansiout\"></div>"
      ]
     },
     "metadata": {
      "application/vnd.databricks.v1+output": {
       "addedWidgets": {},
       "arguments": {},
       "data": "<div class=\"ansiout\"></div>",
       "datasetInfos": [],
       "metadata": {},
       "removedWidgets": [],
       "type": "html"
      }
     },
     "output_type": "display_data"
    }
   ],
   "source": [
    "companies_df['Telefon'] = companies_df['Telefon'].apply(convert_scientific_notation)\n",
    "companies_df['Telefax'] = companies_df['Telefax'].apply(convert_scientific_notation)"
   ]
  },
  {
   "cell_type": "code",
   "execution_count": 0,
   "metadata": {
    "application/vnd.databricks.v1+cell": {
     "cellMetadata": {
      "byteLimit": 2048000,
      "rowLimit": 10000
     },
     "inputWidgets": {},
     "nuid": "c6f38939-c9fb-4b51-bd1c-643b7cfa3be1",
     "showTitle": false,
     "title": ""
    }
   },
   "outputs": [
    {
     "output_type": "display_data",
     "data": {
      "text/html": [
       "<style scoped>\n",
       "  .ansiout {\n",
       "    display: block;\n",
       "    unicode-bidi: embed;\n",
       "    white-space: pre-wrap;\n",
       "    word-wrap: break-word;\n",
       "    word-break: break-all;\n",
       "    font-family: \"Source Code Pro\", \"Menlo\", monospace;;\n",
       "    font-size: 13px;\n",
       "    color: #555;\n",
       "    margin-left: 4px;\n",
       "    line-height: 19px;\n",
       "  }\n",
       "</style>\n",
       "<div class=\"ansiout\"></div>"
      ]
     },
     "metadata": {
      "application/vnd.databricks.v1+output": {
       "addedWidgets": {},
       "arguments": {},
       "data": "<div class=\"ansiout\"></div>",
       "datasetInfos": [],
       "metadata": {},
       "removedWidgets": [],
       "type": "html"
      }
     },
     "output_type": "display_data"
    }
   ],
   "source": [
    "companies_df = companies_df[companies_df['Name1'].notnull()]"
   ]
  },
  {
   "cell_type": "code",
   "execution_count": 0,
   "metadata": {
    "application/vnd.databricks.v1+cell": {
     "cellMetadata": {
      "byteLimit": 2048000,
      "rowLimit": 10000
     },
     "inputWidgets": {},
     "nuid": "e945c4c8-41ac-4b23-85cb-7900370e6f80",
     "showTitle": false,
     "title": ""
    }
   },
   "outputs": [
    {
     "output_type": "display_data",
     "data": {
      "text/html": [
       "<style scoped>\n",
       "  .ansiout {\n",
       "    display: block;\n",
       "    unicode-bidi: embed;\n",
       "    white-space: pre-wrap;\n",
       "    word-wrap: break-word;\n",
       "    word-break: break-all;\n",
       "    font-family: \"Source Code Pro\", \"Menlo\", monospace;;\n",
       "    font-size: 13px;\n",
       "    color: #555;\n",
       "    margin-left: 4px;\n",
       "    line-height: 19px;\n",
       "  }\n",
       "</style>\n",
       "<div class=\"ansiout\"></div>"
      ]
     },
     "metadata": {
      "application/vnd.databricks.v1+output": {
       "addedWidgets": {},
       "arguments": {},
       "data": "<div class=\"ansiout\"></div>",
       "datasetInfos": [],
       "metadata": {},
       "removedWidgets": [],
       "type": "html"
      }
     },
     "output_type": "display_data"
    }
   ],
   "source": [
    "mapping = {'AdressenID': 'k_alphaplan_addressenid_hubspot',\n",
    "           'AdressNummer': 'k_alphaplan_adressnummer_hubspot',\n",
    "           'Name1' : 'name',\n",
    "           'Ort' : 'city',\n",
    "           'Postleitzahl' : 'zip',\n",
    "           'Strasse' : 'address',\n",
    "           'Telefon': 'phone',\n",
    "           'LaenderKuerzel': 'laenderkuerzel',\n",
    "            'Postfach': 'postfach',\n",
    "            'PostfachPostleitzahl': 'postfach_postleitzahl',\n",
    "            'PostfachOrt': 'postfach_ort',\n",
    "            'Telefax': 'telefax' ,\n",
    "            'Email': 'email',\n",
    "            'Information': 'information',\n",
    "            'Internet': 'website',\n",
    "            'LieferantenKundenNummer': 'lieferanten_kunden_nummer',\n",
    "            'PreisStufe1': 'preisstufe_1',\n",
    "            'PreisStufe2': 'preisstufe_2',\n",
    "            'SVPrioritaet': 'prioritaet'\n",
    "}\n",
    "companies_df = companies_df.rename(columns=mapping)"
   ]
  },
  {
   "cell_type": "code",
   "execution_count": 0,
   "metadata": {
    "application/vnd.databricks.v1+cell": {
     "cellMetadata": {
      "byteLimit": 2048000,
      "rowLimit": 10000
     },
     "inputWidgets": {},
     "nuid": "6b53710c-cdcd-4b50-a6f6-5b96eb9209e0",
     "showTitle": false,
     "title": ""
    }
   },
   "outputs": [
    {
     "output_type": "display_data",
     "data": {
      "text/html": [
       "<style scoped>\n",
       "  .ansiout {\n",
       "    display: block;\n",
       "    unicode-bidi: embed;\n",
       "    white-space: pre-wrap;\n",
       "    word-wrap: break-word;\n",
       "    word-break: break-all;\n",
       "    font-family: \"Source Code Pro\", \"Menlo\", monospace;;\n",
       "    font-size: 13px;\n",
       "    color: #555;\n",
       "    margin-left: 4px;\n",
       "    line-height: 19px;\n",
       "  }\n",
       "</style>\n",
       "<div class=\"ansiout\"></div>"
      ]
     },
     "metadata": {
      "application/vnd.databricks.v1+output": {
       "addedWidgets": {},
       "arguments": {},
       "data": "<div class=\"ansiout\"></div>",
       "datasetInfos": [],
       "metadata": {},
       "removedWidgets": [],
       "type": "html"
      }
     },
     "output_type": "display_data"
    }
   ],
   "source": [
    "companies_records = companies_df.to_dict(orient='records')"
   ]
  },
  {
   "cell_type": "code",
   "execution_count": 0,
   "metadata": {
    "application/vnd.databricks.v1+cell": {
     "cellMetadata": {
      "byteLimit": 2048000,
      "rowLimit": 10000
     },
     "inputWidgets": {},
     "nuid": "a0f5d3e7-94bd-4218-a180-2561278bb318",
     "showTitle": false,
     "title": ""
    }
   },
   "outputs": [
    {
     "output_type": "display_data",
     "data": {
      "text/html": [
       "<style scoped>\n",
       "  .ansiout {\n",
       "    display: block;\n",
       "    unicode-bidi: embed;\n",
       "    white-space: pre-wrap;\n",
       "    word-wrap: break-word;\n",
       "    word-break: break-all;\n",
       "    font-family: \"Source Code Pro\", \"Menlo\", monospace;;\n",
       "    font-size: 13px;\n",
       "    color: #555;\n",
       "    margin-left: 4px;\n",
       "    line-height: 19px;\n",
       "  }\n",
       "</style>\n",
       "<div class=\"ansiout\">--------companies records to be uploaded : 8431\n",
       "</div>"
      ]
     },
     "metadata": {
      "application/vnd.databricks.v1+output": {
       "addedWidgets": {},
       "arguments": {},
       "data": "<div class=\"ansiout\">--------companies records to be uploaded : 8431\n</div>",
       "datasetInfos": [],
       "metadata": {},
       "removedWidgets": [],
       "type": "html"
      }
     },
     "output_type": "display_data"
    }
   ],
   "source": [
    "n_records = len(companies_records)\n",
    "print('--------companies records to be uploaded :',n_records)"
   ]
  },
  {
   "cell_type": "code",
   "execution_count": 0,
   "metadata": {
    "application/vnd.databricks.v1+cell": {
     "cellMetadata": {
      "byteLimit": 2048000,
      "rowLimit": 10000
     },
     "inputWidgets": {},
     "nuid": "f2411e0d-9f60-4c1a-ac26-2292a49654a7",
     "showTitle": false,
     "title": ""
    }
   },
   "outputs": [
    {
     "output_type": "display_data",
     "data": {
      "text/html": [
       "<style scoped>\n",
       "  .ansiout {\n",
       "    display: block;\n",
       "    unicode-bidi: embed;\n",
       "    white-space: pre-wrap;\n",
       "    word-wrap: break-word;\n",
       "    word-break: break-all;\n",
       "    font-family: \"Source Code Pro\", \"Menlo\", monospace;;\n",
       "    font-size: 13px;\n",
       "    color: #555;\n",
       "    margin-left: 4px;\n",
       "    line-height: 19px;\n",
       "  }\n",
       "</style>\n",
       "<div class=\"ansiout\"></div>"
      ]
     },
     "metadata": {
      "application/vnd.databricks.v1+output": {
       "addedWidgets": {},
       "arguments": {},
       "data": "<div class=\"ansiout\"></div>",
       "datasetInfos": [],
       "metadata": {},
       "removedWidgets": [],
       "type": "html"
      }
     },
     "output_type": "display_data"
    }
   ],
   "source": [
    "def split_list_into_chunks(lst, chunk_size):\n",
    "    \"\"\"\n",
    "    Split a list into chunks of a specified size.\n",
    "    \n",
    "    Args:\n",
    "        lst (list): The list to split.\n",
    "        chunk_size (int): The size of each chunk.\n",
    "    \n",
    "    Returns:\n",
    "        list: A list of lists, where each inner list represents a chunk.\n",
    "    \"\"\"\n",
    "    return [lst[i:i + chunk_size] for i in range(0, len(lst), chunk_size)]"
   ]
  },
  {
   "cell_type": "code",
   "execution_count": 0,
   "metadata": {
    "application/vnd.databricks.v1+cell": {
     "cellMetadata": {
      "byteLimit": 2048000,
      "rowLimit": 10000
     },
     "inputWidgets": {},
     "nuid": "67b66dc6-4e9c-422b-a68e-1350c639f570",
     "showTitle": false,
     "title": ""
    }
   },
   "outputs": [
    {
     "output_type": "display_data",
     "data": {
      "text/html": [
       "<style scoped>\n",
       "  .ansiout {\n",
       "    display: block;\n",
       "    unicode-bidi: embed;\n",
       "    white-space: pre-wrap;\n",
       "    word-wrap: break-word;\n",
       "    word-break: break-all;\n",
       "    font-family: \"Source Code Pro\", \"Menlo\", monospace;;\n",
       "    font-size: 13px;\n",
       "    color: #555;\n",
       "    margin-left: 4px;\n",
       "    line-height: 19px;\n",
       "  }\n",
       "</style>\n",
       "<div class=\"ansiout\"></div>"
      ]
     },
     "metadata": {
      "application/vnd.databricks.v1+output": {
       "addedWidgets": {},
       "arguments": {},
       "data": "<div class=\"ansiout\"></div>",
       "datasetInfos": [],
       "metadata": {},
       "removedWidgets": [],
       "type": "html"
      }
     },
     "output_type": "display_data"
    }
   ],
   "source": [
    "companies_batches = split_list_into_chunks(companies_records, 100)"
   ]
  },
  {
   "cell_type": "code",
   "execution_count": 0,
   "metadata": {
    "application/vnd.databricks.v1+cell": {
     "cellMetadata": {
      "byteLimit": 2048000,
      "rowLimit": 10000
     },
     "inputWidgets": {},
     "nuid": "4f2f45b0-ddaa-4ba5-84a8-155f97b1d407",
     "showTitle": false,
     "title": ""
    }
   },
   "outputs": [
    {
     "output_type": "display_data",
     "data": {
      "text/html": [
       "<style scoped>\n",
       "  .ansiout {\n",
       "    display: block;\n",
       "    unicode-bidi: embed;\n",
       "    white-space: pre-wrap;\n",
       "    word-wrap: break-word;\n",
       "    word-break: break-all;\n",
       "    font-family: \"Source Code Pro\", \"Menlo\", monospace;;\n",
       "    font-size: 13px;\n",
       "    color: #555;\n",
       "    margin-left: 4px;\n",
       "    line-height: 19px;\n",
       "  }\n",
       "</style>\n",
       "<div class=\"ansiout\"></div>"
      ]
     },
     "metadata": {
      "application/vnd.databricks.v1+output": {
       "addedWidgets": {},
       "arguments": {},
       "data": "<div class=\"ansiout\"></div>",
       "datasetInfos": [],
       "metadata": {},
       "removedWidgets": [],
       "type": "html"
      }
     },
     "output_type": "display_data"
    }
   ],
   "source": [
    "def get_hubspot_upload_format(batch):\n",
    "    upload_list = []\n",
    "    for batch_entry in batch:\n",
    "        upload_list_entry = { \"properties\": batch_entry }\n",
    "        upload_list.append(upload_list_entry)   \n",
    "    return upload_list"
   ]
  },
  {
   "cell_type": "code",
   "execution_count": 0,
   "metadata": {
    "application/vnd.databricks.v1+cell": {
     "cellMetadata": {
      "byteLimit": 2048000,
      "rowLimit": 10000
     },
     "inputWidgets": {},
     "nuid": "24202a36-3d4c-4707-b5c7-1947600a701f",
     "showTitle": false,
     "title": ""
    }
   },
   "outputs": [
    {
     "output_type": "display_data",
     "data": {
      "text/html": [
       "<style scoped>\n",
       "  .ansiout {\n",
       "    display: block;\n",
       "    unicode-bidi: embed;\n",
       "    white-space: pre-wrap;\n",
       "    word-wrap: break-word;\n",
       "    word-break: break-all;\n",
       "    font-family: \"Source Code Pro\", \"Menlo\", monospace;;\n",
       "    font-size: 13px;\n",
       "    color: #555;\n",
       "    margin-left: 4px;\n",
       "    line-height: 19px;\n",
       "  }\n",
       "</style>\n",
       "<div class=\"ansiout\"></div>"
      ]
     },
     "metadata": {
      "application/vnd.databricks.v1+output": {
       "addedWidgets": {},
       "arguments": {},
       "data": "<div class=\"ansiout\"></div>",
       "datasetInfos": [],
       "metadata": {},
       "removedWidgets": [],
       "type": "html"
      }
     },
     "output_type": "display_data"
    }
   ],
   "source": [
    "import hubspot\n",
    "from pprint import pprint\n",
    "from hubspot.crm.companies import BatchInputSimplePublicObjectInputForCreate, ApiException\n",
    "\n",
    "api_upload_key = dbutils.secrets.get(scope=\"key-vault-secrets\",key=\"upload-api-accesstoken\")\n",
    "\n",
    "client = hubspot.Client.create(access_token=api_upload_key)\n",
    "\n",
    "def upload_batch_companies(upload_list, client):\n",
    "    batch_input_simple_public_object_input_for_create =   \\\n",
    "                    BatchInputSimplePublicObjectInputForCreate(inputs= upload_list\n",
    "                                                                )\n",
    "    try:\n",
    "        api_response = client.crm.companies.batch_api.create(batch_input_simple_public_object_input_for_create=batch_input_simple_public_object_input_for_create)\n",
    "        n_uploads = len(api_response.results)\n",
    "        return n_uploads\n",
    "    except ApiException as e:\n",
    "        print(\"Exception when calling batch_api->create: %s\\n\" % e)"
   ]
  },
  {
   "cell_type": "code",
   "execution_count": 0,
   "metadata": {
    "application/vnd.databricks.v1+cell": {
     "cellMetadata": {
      "byteLimit": 2048000,
      "rowLimit": 10000
     },
     "inputWidgets": {},
     "nuid": "3b5caff8-72ce-42f8-a50d-7ae17b141adc",
     "showTitle": false,
     "title": ""
    }
   },
   "outputs": [
    {
     "output_type": "display_data",
     "data": {
      "text/html": [
       "<style scoped>\n",
       "  .ansiout {\n",
       "    display: block;\n",
       "    unicode-bidi: embed;\n",
       "    white-space: pre-wrap;\n",
       "    word-wrap: break-word;\n",
       "    word-break: break-all;\n",
       "    font-family: \"Source Code Pro\", \"Menlo\", monospace;;\n",
       "    font-size: 13px;\n",
       "    color: #555;\n",
       "    margin-left: 4px;\n",
       "    line-height: 19px;\n",
       "  }\n",
       "</style>\n",
       "<div class=\"ansiout\"></div>"
      ]
     },
     "metadata": {
      "application/vnd.databricks.v1+output": {
       "addedWidgets": {},
       "arguments": {},
       "data": "<div class=\"ansiout\"></div>",
       "datasetInfos": [],
       "metadata": {},
       "removedWidgets": [],
       "type": "html"
      }
     },
     "output_type": "display_data"
    }
   ],
   "source": [
    "# test_batch = companies_batches[0][:30]\n",
    "# upload_list = get_hubspot_upload_format(test_batch)\n",
    "# n_uploads = upload_batch_companies(upload_list, client)\n",
    "# print('--------companies records uploaded successfully:',n_uploads)"
   ]
  },
  {
   "cell_type": "code",
   "execution_count": 0,
   "metadata": {
    "application/vnd.databricks.v1+cell": {
     "cellMetadata": {
      "byteLimit": 2048000,
      "rowLimit": 10000
     },
     "inputWidgets": {},
     "nuid": "5354446a-16ed-4444-9c03-8d55c9953776",
     "showTitle": false,
     "title": ""
    }
   },
   "outputs": [
    {
     "output_type": "display_data",
     "data": {
      "text/html": [
       "<style scoped>\n",
       "  .ansiout {\n",
       "    display: block;\n",
       "    unicode-bidi: embed;\n",
       "    white-space: pre-wrap;\n",
       "    word-wrap: break-word;\n",
       "    word-break: break-all;\n",
       "    font-family: \"Source Code Pro\", \"Menlo\", monospace;;\n",
       "    font-size: 13px;\n",
       "    color: #555;\n",
       "    margin-left: 4px;\n",
       "    line-height: 19px;\n",
       "  }\n",
       "</style>\n",
       "<div class=\"ansiout\">-----uploaded batch : 1 ,number of records : 100\n",
       "-----uploaded batch : 2 ,number of records : 100\n",
       "-----uploaded batch : 3 ,number of records : 100\n",
       "-----uploaded batch : 4 ,number of records : 100\n",
       "-----uploaded batch : 5 ,number of records : 100\n",
       "-----uploaded batch : 6 ,number of records : 100\n",
       "-----uploaded batch : 7 ,number of records : 100\n",
       "-----uploaded batch : 8 ,number of records : 100\n",
       "-----uploaded batch : 9 ,number of records : 100\n",
       "-----uploaded batch : 10 ,number of records : 100\n",
       "-----uploaded batch : 11 ,number of records : 100\n",
       "-----uploaded batch : 12 ,number of records : 100\n",
       "-----uploaded batch : 13 ,number of records : 100\n",
       "-----uploaded batch : 14 ,number of records : 100\n",
       "-----uploaded batch : 15 ,number of records : 100\n",
       "-----uploaded batch : 16 ,number of records : 100\n",
       "-----uploaded batch : 17 ,number of records : 100\n",
       "-----uploaded batch : 18 ,number of records : 100\n",
       "-----uploaded batch : 19 ,number of records : 100\n",
       "-----uploaded batch : 20 ,number of records : 100\n",
       "-----uploaded batch : 21 ,number of records : 100\n",
       "-----uploaded batch : 22 ,number of records : 100\n",
       "-----uploaded batch : 23 ,number of records : 100\n",
       "-----uploaded batch : 24 ,number of records : 100\n",
       "-----uploaded batch : 25 ,number of records : 100\n",
       "-----uploaded batch : 26 ,number of records : 100\n",
       "-----uploaded batch : 27 ,number of records : 100\n",
       "-----uploaded batch : 28 ,number of records : 100\n",
       "-----uploaded batch : 29 ,number of records : 100\n",
       "-----uploaded batch : 30 ,number of records : 100\n",
       "-----uploaded batch : 31 ,number of records : 100\n",
       "-----uploaded batch : 32 ,number of records : 100\n",
       "-----uploaded batch : 33 ,number of records : 100\n",
       "-----uploaded batch : 34 ,number of records : 100\n",
       "-----uploaded batch : 35 ,number of records : 100\n",
       "-----uploaded batch : 36 ,number of records : 100\n",
       "-----uploaded batch : 37 ,number of records : 100\n",
       "-----uploaded batch : 38 ,number of records : 100\n",
       "-----uploaded batch : 39 ,number of records : 100\n",
       "-----uploaded batch : 40 ,number of records : 100\n",
       "-----uploaded batch : 41 ,number of records : 100\n",
       "-----uploaded batch : 42 ,number of records : 100\n",
       "-----uploaded batch : 43 ,number of records : 100\n",
       "-----uploaded batch : 44 ,number of records : 100\n",
       "-----uploaded batch : 45 ,number of records : 100\n",
       "-----uploaded batch : 46 ,number of records : 100\n",
       "-----uploaded batch : 47 ,number of records : 100\n",
       "-----uploaded batch : 48 ,number of records : 100\n",
       "-----uploaded batch : 49 ,number of records : 100\n",
       "-----uploaded batch : 50 ,number of records : 100\n",
       "-----uploaded batch : 51 ,number of records : 100\n",
       "-----uploaded batch : 52 ,number of records : 100\n",
       "-----uploaded batch : 53 ,number of records : 100\n",
       "-----uploaded batch : 54 ,number of records : 100\n",
       "-----uploaded batch : 55 ,number of records : 100\n",
       "-----uploaded batch : 56 ,number of records : 100\n",
       "-----uploaded batch : 57 ,number of records : 100\n",
       "-----uploaded batch : 58 ,number of records : 100\n",
       "-----uploaded batch : 59 ,number of records : 100\n",
       "-----uploaded batch : 60 ,number of records : 100\n",
       "-----uploaded batch : 61 ,number of records : 100\n",
       "-----uploaded batch : 62 ,number of records : 100\n",
       "-----uploaded batch : 63 ,number of records : 100\n",
       "-----uploaded batch : 64 ,number of records : 100\n",
       "-----uploaded batch : 65 ,number of records : 100\n",
       "-----uploaded batch : 66 ,number of records : 100\n",
       "-----uploaded batch : 67 ,number of records : 100\n",
       "-----uploaded batch : 68 ,number of records : 100\n",
       "-----uploaded batch : 69 ,number of records : 100\n",
       "-----uploaded batch : 70 ,number of records : 100\n",
       "-----uploaded batch : 71 ,number of records : 100\n",
       "-----uploaded batch : 72 ,number of records : 100\n",
       "-----uploaded batch : 73 ,number of records : 100\n",
       "-----uploaded batch : 74 ,number of records : 100\n",
       "-----uploaded batch : 75 ,number of records : 100\n",
       "-----uploaded batch : 76 ,number of records : 100\n",
       "-----uploaded batch : 77 ,number of records : 100\n",
       "-----uploaded batch : 78 ,number of records : 100\n",
       "-----uploaded batch : 79 ,number of records : 100\n",
       "-----uploaded batch : 80 ,number of records : 100\n",
       "-----uploaded batch : 81 ,number of records : 100\n",
       "-----uploaded batch : 82 ,number of records : 100\n",
       "-----uploaded batch : 83 ,number of records : 100\n",
       "-----uploaded batch : 84 ,number of records : 100\n",
       "-----uploaded batch : 85 ,number of records : 31\n",
       "</div>"
      ]
     },
     "metadata": {
      "application/vnd.databricks.v1+output": {
       "addedWidgets": {},
       "arguments": {},
       "data": "<div class=\"ansiout\">-----uploaded batch : 1 ,number of records : 100\n-----uploaded batch : 2 ,number of records : 100\n-----uploaded batch : 3 ,number of records : 100\n-----uploaded batch : 4 ,number of records : 100\n-----uploaded batch : 5 ,number of records : 100\n-----uploaded batch : 6 ,number of records : 100\n-----uploaded batch : 7 ,number of records : 100\n-----uploaded batch : 8 ,number of records : 100\n-----uploaded batch : 9 ,number of records : 100\n-----uploaded batch : 10 ,number of records : 100\n-----uploaded batch : 11 ,number of records : 100\n-----uploaded batch : 12 ,number of records : 100\n-----uploaded batch : 13 ,number of records : 100\n-----uploaded batch : 14 ,number of records : 100\n-----uploaded batch : 15 ,number of records : 100\n-----uploaded batch : 16 ,number of records : 100\n-----uploaded batch : 17 ,number of records : 100\n-----uploaded batch : 18 ,number of records : 100\n-----uploaded batch : 19 ,number of records : 100\n-----uploaded batch : 20 ,number of records : 100\n-----uploaded batch : 21 ,number of records : 100\n-----uploaded batch : 22 ,number of records : 100\n-----uploaded batch : 23 ,number of records : 100\n-----uploaded batch : 24 ,number of records : 100\n-----uploaded batch : 25 ,number of records : 100\n-----uploaded batch : 26 ,number of records : 100\n-----uploaded batch : 27 ,number of records : 100\n-----uploaded batch : 28 ,number of records : 100\n-----uploaded batch : 29 ,number of records : 100\n-----uploaded batch : 30 ,number of records : 100\n-----uploaded batch : 31 ,number of records : 100\n-----uploaded batch : 32 ,number of records : 100\n-----uploaded batch : 33 ,number of records : 100\n-----uploaded batch : 34 ,number of records : 100\n-----uploaded batch : 35 ,number of records : 100\n-----uploaded batch : 36 ,number of records : 100\n-----uploaded batch : 37 ,number of records : 100\n-----uploaded batch : 38 ,number of records : 100\n-----uploaded batch : 39 ,number of records : 100\n-----uploaded batch : 40 ,number of records : 100\n-----uploaded batch : 41 ,number of records : 100\n-----uploaded batch : 42 ,number of records : 100\n-----uploaded batch : 43 ,number of records : 100\n-----uploaded batch : 44 ,number of records : 100\n-----uploaded batch : 45 ,number of records : 100\n-----uploaded batch : 46 ,number of records : 100\n-----uploaded batch : 47 ,number of records : 100\n-----uploaded batch : 48 ,number of records : 100\n-----uploaded batch : 49 ,number of records : 100\n-----uploaded batch : 50 ,number of records : 100\n-----uploaded batch : 51 ,number of records : 100\n-----uploaded batch : 52 ,number of records : 100\n-----uploaded batch : 53 ,number of records : 100\n-----uploaded batch : 54 ,number of records : 100\n-----uploaded batch : 55 ,number of records : 100\n-----uploaded batch : 56 ,number of records : 100\n-----uploaded batch : 57 ,number of records : 100\n-----uploaded batch : 58 ,number of records : 100\n-----uploaded batch : 59 ,number of records : 100\n-----uploaded batch : 60 ,number of records : 100\n-----uploaded batch : 61 ,number of records : 100\n-----uploaded batch : 62 ,number of records : 100\n-----uploaded batch : 63 ,number of records : 100\n-----uploaded batch : 64 ,number of records : 100\n-----uploaded batch : 65 ,number of records : 100\n-----uploaded batch : 66 ,number of records : 100\n-----uploaded batch : 67 ,number of records : 100\n-----uploaded batch : 68 ,number of records : 100\n-----uploaded batch : 69 ,number of records : 100\n-----uploaded batch : 70 ,number of records : 100\n-----uploaded batch : 71 ,number of records : 100\n-----uploaded batch : 72 ,number of records : 100\n-----uploaded batch : 73 ,number of records : 100\n-----uploaded batch : 74 ,number of records : 100\n-----uploaded batch : 75 ,number of records : 100\n-----uploaded batch : 76 ,number of records : 100\n-----uploaded batch : 77 ,number of records : 100\n-----uploaded batch : 78 ,number of records : 100\n-----uploaded batch : 79 ,number of records : 100\n-----uploaded batch : 80 ,number of records : 100\n-----uploaded batch : 81 ,number of records : 100\n-----uploaded batch : 82 ,number of records : 100\n-----uploaded batch : 83 ,number of records : 100\n-----uploaded batch : 84 ,number of records : 100\n-----uploaded batch : 85 ,number of records : 31\n</div>",
       "datasetInfos": [],
       "metadata": {},
       "removedWidgets": [],
       "type": "html"
      }
     },
     "output_type": "display_data"
    }
   ],
   "source": [
    "n_uploads = 0\n",
    "counter = 1\n",
    "for b in companies_batches:    \n",
    "    upload_list = get_hubspot_upload_format(b)\n",
    "    n_uploads_inc = upload_batch_companies(upload_list, client)\n",
    "    print('-----uploaded batch :', counter, ',number of records :', n_uploads_inc)\n",
    "    n_uploads += n_uploads_inc\n",
    "    counter += 1"
   ]
  },
  {
   "cell_type": "code",
   "execution_count": 0,
   "metadata": {
    "application/vnd.databricks.v1+cell": {
     "cellMetadata": {
      "byteLimit": 2048000,
      "rowLimit": 10000
     },
     "inputWidgets": {},
     "nuid": "50894b8d-5e10-4854-91ec-8d816e767e91",
     "showTitle": false,
     "title": ""
    }
   },
   "outputs": [
    {
     "output_type": "display_data",
     "data": {
      "text/html": [
       "<style scoped>\n",
       "  .ansiout {\n",
       "    display: block;\n",
       "    unicode-bidi: embed;\n",
       "    white-space: pre-wrap;\n",
       "    word-wrap: break-word;\n",
       "    word-break: break-all;\n",
       "    font-family: \"Source Code Pro\", \"Menlo\", monospace;;\n",
       "    font-size: 13px;\n",
       "    color: #555;\n",
       "    margin-left: 4px;\n",
       "    line-height: 19px;\n",
       "  }\n",
       "</style>\n",
       "<div class=\"ansiout\">--------companies records uploaded successfully: 8431\n",
       "</div>"
      ]
     },
     "metadata": {
      "application/vnd.databricks.v1+output": {
       "addedWidgets": {},
       "arguments": {},
       "data": "<div class=\"ansiout\">--------companies records uploaded successfully: 8431\n</div>",
       "datasetInfos": [],
       "metadata": {},
       "removedWidgets": [],
       "type": "html"
      }
     },
     "output_type": "display_data"
    }
   ],
   "source": [
    "print('--------companies records uploaded successfully:',n_uploads)"
   ]
  }
 ],
 "metadata": {
  "application/vnd.databricks.v1+notebook": {
   "dashboards": [],
   "language": "python",
   "notebookMetadata": {
    "pythonIndentUnit": 4
   },
   "notebookName": "2_migrate_companies",
   "widgets": {}
  }
 },
 "nbformat": 4,
 "nbformat_minor": 0
}
