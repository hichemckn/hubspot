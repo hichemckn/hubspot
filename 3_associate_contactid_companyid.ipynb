{
 "cells": [
  {
   "cell_type": "code",
   "execution_count": 0,
   "metadata": {
    "application/vnd.databricks.v1+cell": {
     "cellMetadata": {
      "byteLimit": 2048000,
      "rowLimit": 10000
     },
     "inputWidgets": {},
     "nuid": "f881d3f8-21a1-43ff-bcc2-f64b66965905",
     "showTitle": false,
     "title": ""
    }
   },
   "outputs": [
    {
     "output_type": "display_data",
     "data": {
      "text/html": [
       "<style scoped>\n",
       "  .ansiout {\n",
       "    display: block;\n",
       "    unicode-bidi: embed;\n",
       "    white-space: pre-wrap;\n",
       "    word-wrap: break-word;\n",
       "    word-break: break-all;\n",
       "    font-family: \"Source Code Pro\", \"Menlo\", monospace;;\n",
       "    font-size: 13px;\n",
       "    color: #555;\n",
       "    margin-left: 4px;\n",
       "    line-height: 19px;\n",
       "  }\n",
       "</style>\n",
       "<div class=\"ansiout\">Python interpreter will be restarted.\n",
       "Collecting hubspot\n",
       "  Using cached hubspot-0.1.14.dev0-py3-none-any.whl\n",
       "Installing collected packages: hubspot\n",
       "Successfully installed hubspot-0.1.14.dev0\n",
       "WARNING: You are using pip version 21.0.1; however, version 23.1.2 is available.\n",
       "You should consider upgrading via the &#39;/local_disk0/.ephemeral_nfs/envs/pythonEnv-ff575d4a-673d-4bb5-b716-f41877ea4a99/bin/python -m pip install --upgrade pip&#39; command.\n",
       "Python interpreter will be restarted.\n",
       "</div>"
      ]
     },
     "metadata": {
      "application/vnd.databricks.v1+output": {
       "addedWidgets": {},
       "arguments": {},
       "data": "<div class=\"ansiout\">Python interpreter will be restarted.\nCollecting hubspot\n  Using cached hubspot-0.1.14.dev0-py3-none-any.whl\nInstalling collected packages: hubspot\nSuccessfully installed hubspot-0.1.14.dev0\nWARNING: You are using pip version 21.0.1; however, version 23.1.2 is available.\nYou should consider upgrading via the &#39;/local_disk0/.ephemeral_nfs/envs/pythonEnv-ff575d4a-673d-4bb5-b716-f41877ea4a99/bin/python -m pip install --upgrade pip&#39; command.\nPython interpreter will be restarted.\n</div>",
       "datasetInfos": [],
       "metadata": {},
       "removedWidgets": [],
       "type": "html"
      }
     },
     "output_type": "display_data"
    }
   ],
   "source": [
    "pip install hubspot"
   ]
  },
  {
   "cell_type": "code",
   "execution_count": 0,
   "metadata": {
    "application/vnd.databricks.v1+cell": {
     "cellMetadata": {
      "byteLimit": 2048000,
      "rowLimit": 10000
     },
     "inputWidgets": {},
     "nuid": "a82a2c5a-fc6d-43c0-8418-e72afd0cad33",
     "showTitle": false,
     "title": ""
    }
   },
   "outputs": [
    {
     "output_type": "display_data",
     "data": {
      "text/html": [
       "<style scoped>\n",
       "  .ansiout {\n",
       "    display: block;\n",
       "    unicode-bidi: embed;\n",
       "    white-space: pre-wrap;\n",
       "    word-wrap: break-word;\n",
       "    word-break: break-all;\n",
       "    font-family: \"Source Code Pro\", \"Menlo\", monospace;;\n",
       "    font-size: 13px;\n",
       "    color: #555;\n",
       "    margin-left: 4px;\n",
       "    line-height: 19px;\n",
       "  }\n",
       "</style>\n",
       "<div class=\"ansiout\">Python interpreter will be restarted.\n",
       "Collecting hubspot-api-client\n",
       "  Using cached hubspot_api_client-8.0.0-py3-none-any.whl (3.4 MB)\n",
       "Requirement already satisfied: six&gt;=1.10 in /databricks/python3/lib/python3.8/site-packages (from hubspot-api-client) (1.15.0)\n",
       "Requirement already satisfied: python-dateutil in /databricks/python3/lib/python3.8/site-packages (from hubspot-api-client) (2.8.1)\n",
       "Requirement already satisfied: certifi in /databricks/python3/lib/python3.8/site-packages (from hubspot-api-client) (2020.12.5)\n",
       "Requirement already satisfied: urllib3&gt;=1.15 in /databricks/python3/lib/python3.8/site-packages (from hubspot-api-client) (1.25.11)\n",
       "Installing collected packages: hubspot-api-client\n",
       "Successfully installed hubspot-api-client-8.0.0\n",
       "WARNING: You are using pip version 21.0.1; however, version 23.1.2 is available.\n",
       "You should consider upgrading via the &#39;/local_disk0/.ephemeral_nfs/envs/pythonEnv-ff575d4a-673d-4bb5-b716-f41877ea4a99/bin/python -m pip install --upgrade pip&#39; command.\n",
       "Python interpreter will be restarted.\n",
       "</div>"
      ]
     },
     "metadata": {
      "application/vnd.databricks.v1+output": {
       "addedWidgets": {},
       "arguments": {},
       "data": "<div class=\"ansiout\">Python interpreter will be restarted.\nCollecting hubspot-api-client\n  Using cached hubspot_api_client-8.0.0-py3-none-any.whl (3.4 MB)\nRequirement already satisfied: six&gt;=1.10 in /databricks/python3/lib/python3.8/site-packages (from hubspot-api-client) (1.15.0)\nRequirement already satisfied: python-dateutil in /databricks/python3/lib/python3.8/site-packages (from hubspot-api-client) (2.8.1)\nRequirement already satisfied: certifi in /databricks/python3/lib/python3.8/site-packages (from hubspot-api-client) (2020.12.5)\nRequirement already satisfied: urllib3&gt;=1.15 in /databricks/python3/lib/python3.8/site-packages (from hubspot-api-client) (1.25.11)\nInstalling collected packages: hubspot-api-client\nSuccessfully installed hubspot-api-client-8.0.0\nWARNING: You are using pip version 21.0.1; however, version 23.1.2 is available.\nYou should consider upgrading via the &#39;/local_disk0/.ephemeral_nfs/envs/pythonEnv-ff575d4a-673d-4bb5-b716-f41877ea4a99/bin/python -m pip install --upgrade pip&#39; command.\nPython interpreter will be restarted.\n</div>",
       "datasetInfos": [],
       "metadata": {},
       "removedWidgets": [],
       "type": "html"
      }
     },
     "output_type": "display_data"
    }
   ],
   "source": [
    "pip install hubspot-api-client"
   ]
  },
  {
   "cell_type": "markdown",
   "metadata": {
    "application/vnd.databricks.v1+cell": {
     "cellMetadata": {
      "byteLimit": 2048000,
      "rowLimit": 10000
     },
     "inputWidgets": {},
     "nuid": "fd25bc12-8de2-427a-b160-fc02f1d3f3dc",
     "showTitle": false,
     "title": ""
    }
   },
   "source": [
    "## AdressNummer vs. HSContactID"
   ]
  },
  {
   "cell_type": "code",
   "execution_count": 0,
   "metadata": {
    "application/vnd.databricks.v1+cell": {
     "cellMetadata": {
      "byteLimit": 2048000,
      "rowLimit": 10000
     },
     "inputWidgets": {},
     "nuid": "a4c5fa7e-7f48-40da-8d84-fbc7899b44bb",
     "showTitle": false,
     "title": ""
    }
   },
   "outputs": [
    {
     "output_type": "display_data",
     "data": {
      "text/html": [
       "<style scoped>\n",
       "  .ansiout {\n",
       "    display: block;\n",
       "    unicode-bidi: embed;\n",
       "    white-space: pre-wrap;\n",
       "    word-wrap: break-word;\n",
       "    word-break: break-all;\n",
       "    font-family: \"Source Code Pro\", \"Menlo\", monospace;;\n",
       "    font-size: 13px;\n",
       "    color: #555;\n",
       "    margin-left: 4px;\n",
       "    line-height: 19px;\n",
       "  }\n",
       "</style>\n",
       "<div class=\"ansiout\"></div>"
      ]
     },
     "metadata": {
      "application/vnd.databricks.v1+output": {
       "addedWidgets": {},
       "arguments": {},
       "data": "<div class=\"ansiout\"></div>",
       "datasetInfos": [],
       "metadata": {},
       "removedWidgets": [],
       "type": "html"
      }
     },
     "output_type": "display_data"
    }
   ],
   "source": [
    "import hubspot\n",
    "from pprint import pprint\n",
    "from hubspot.crm.contacts import ApiException\n",
    "import pandas as pd\n",
    "\n",
    "api_key = dbutils.secrets.get(scope=\"key-vault-secrets\",key=\"api-accesstoken\")\n",
    "client = hubspot.Client.create(access_token=api_key)\n",
    "\n",
    "def get_adressnummer_vs_contactid():\n",
    "    batches_list = []\n",
    "    next_after = None\n",
    "\n",
    "    while True:\n",
    "        api_response = client.crm.contacts.basic_api.get_page(limit=100, archived=False, after=next_after, properties=['k_alphaplan_adressnummer_hubspot'])\n",
    "        paging = api_response.paging\n",
    "        results = api_response.results \n",
    "        if results == []:\n",
    "            break\n",
    "        else:\n",
    "            if paging != None:   \n",
    "                next_after = api_response.paging.next.after    \n",
    "                contacts_batch = []        \n",
    "                for c in results:\n",
    "                    obj = { 'adressnummer': c.properties['k_alphaplan_adressnummer_hubspot'],\n",
    "                            'hs_contact_id': c.id\n",
    "                    }\n",
    "                    contacts_batch.append( obj)\n",
    "                batches_list.append(contacts_batch)\n",
    "            else:\n",
    "                contacts_batch = []        \n",
    "                for c in results:\n",
    "                    obj = { 'adressnummer': c.properties['k_alphaplan_adressnummer_hubspot'],\n",
    "                            'hs_contact_id': c.id\n",
    "                    }\n",
    "                    contacts_batch.append(obj)\n",
    "                batches_list.append(contacts_batch)\n",
    "                break\n",
    "    flattened_list = [element for sublist in batches_list for element in sublist]\n",
    "    df = pd.DataFrame(flattened_list)\n",
    "    df = df.rename(columns={'adressnummer':'AdressNummer'})\n",
    "    return df"
   ]
  },
  {
   "cell_type": "code",
   "execution_count": 0,
   "metadata": {
    "application/vnd.databricks.v1+cell": {
     "cellMetadata": {
      "byteLimit": 2048000,
      "rowLimit": 10000
     },
     "inputWidgets": {},
     "nuid": "5c92823d-3f8c-4de4-97cd-805269444308",
     "showTitle": false,
     "title": ""
    }
   },
   "outputs": [
    {
     "output_type": "display_data",
     "data": {
      "text/html": [
       "<style scoped>\n",
       "  .ansiout {\n",
       "    display: block;\n",
       "    unicode-bidi: embed;\n",
       "    white-space: pre-wrap;\n",
       "    word-wrap: break-word;\n",
       "    word-break: break-all;\n",
       "    font-family: \"Source Code Pro\", \"Menlo\", monospace;;\n",
       "    font-size: 13px;\n",
       "    color: #555;\n",
       "    margin-left: 4px;\n",
       "    line-height: 19px;\n",
       "  }\n",
       "</style>\n",
       "<div class=\"ansiout\">Out[2]: </div>"
      ]
     },
     "metadata": {
      "application/vnd.databricks.v1+output": {
       "addedWidgets": {},
       "arguments": {},
       "data": "<div class=\"ansiout\">Out[2]: </div>",
       "datasetInfos": [],
       "metadata": {},
       "removedWidgets": [],
       "type": "html"
      }
     },
     "output_type": "display_data"
    },
    {
     "output_type": "display_data",
     "data": {
      "text/html": [
       "<div>\n",
       "<style scoped>\n",
       "    .dataframe tbody tr th:only-of-type {\n",
       "        vertical-align: middle;\n",
       "    }\n",
       "\n",
       "    .dataframe tbody tr th {\n",
       "        vertical-align: top;\n",
       "    }\n",
       "\n",
       "    .dataframe thead th {\n",
       "        text-align: right;\n",
       "    }\n",
       "</style>\n",
       "<table border=\"1\" class=\"dataframe\">\n",
       "  <thead>\n",
       "    <tr style=\"text-align: right;\">\n",
       "      <th></th>\n",
       "      <th>AdressNummer</th>\n",
       "      <th>hs_contact_id</th>\n",
       "    </tr>\n",
       "  </thead>\n",
       "  <tbody>\n",
       "    <tr>\n",
       "      <th>0</th>\n",
       "      <td>11259</td>\n",
       "      <td>63201</td>\n",
       "    </tr>\n",
       "    <tr>\n",
       "      <th>1</th>\n",
       "      <td>14122</td>\n",
       "      <td>63202</td>\n",
       "    </tr>\n",
       "    <tr>\n",
       "      <th>2</th>\n",
       "      <td>IN0027</td>\n",
       "      <td>63203</td>\n",
       "    </tr>\n",
       "    <tr>\n",
       "      <th>3</th>\n",
       "      <td>16020</td>\n",
       "      <td>63204</td>\n",
       "    </tr>\n",
       "    <tr>\n",
       "      <th>4</th>\n",
       "      <td>10105</td>\n",
       "      <td>63205</td>\n",
       "    </tr>\n",
       "    <tr>\n",
       "      <th>...</th>\n",
       "      <td>...</td>\n",
       "      <td>...</td>\n",
       "    </tr>\n",
       "    <tr>\n",
       "      <th>9480</th>\n",
       "      <td>IN7621</td>\n",
       "      <td>75056</td>\n",
       "    </tr>\n",
       "    <tr>\n",
       "      <th>9481</th>\n",
       "      <td>IN7644</td>\n",
       "      <td>75101</td>\n",
       "    </tr>\n",
       "    <tr>\n",
       "      <th>9482</th>\n",
       "      <td>IN7631</td>\n",
       "      <td>75151</td>\n",
       "    </tr>\n",
       "    <tr>\n",
       "      <th>9483</th>\n",
       "      <td>16222</td>\n",
       "      <td>75201</td>\n",
       "    </tr>\n",
       "    <tr>\n",
       "      <th>9484</th>\n",
       "      <td>15769</td>\n",
       "      <td>75202</td>\n",
       "    </tr>\n",
       "  </tbody>\n",
       "</table>\n",
       "<p>9485 rows × 2 columns</p>\n",
       "</div>"
      ]
     },
     "metadata": {
      "application/vnd.databricks.v1+output": {
       "addedWidgets": {},
       "arguments": {},
       "data": "<div>\n<style scoped>\n    .dataframe tbody tr th:only-of-type {\n        vertical-align: middle;\n    }\n\n    .dataframe tbody tr th {\n        vertical-align: top;\n    }\n\n    .dataframe thead th {\n        text-align: right;\n    }\n</style>\n<table border=\"1\" class=\"dataframe\">\n  <thead>\n    <tr style=\"text-align: right;\">\n      <th></th>\n      <th>AdressNummer</th>\n      <th>hs_contact_id</th>\n    </tr>\n  </thead>\n  <tbody>\n    <tr>\n      <th>0</th>\n      <td>11259</td>\n      <td>63201</td>\n    </tr>\n    <tr>\n      <th>1</th>\n      <td>14122</td>\n      <td>63202</td>\n    </tr>\n    <tr>\n      <th>2</th>\n      <td>IN0027</td>\n      <td>63203</td>\n    </tr>\n    <tr>\n      <th>3</th>\n      <td>16020</td>\n      <td>63204</td>\n    </tr>\n    <tr>\n      <th>4</th>\n      <td>10105</td>\n      <td>63205</td>\n    </tr>\n    <tr>\n      <th>...</th>\n      <td>...</td>\n      <td>...</td>\n    </tr>\n    <tr>\n      <th>9480</th>\n      <td>IN7621</td>\n      <td>75056</td>\n    </tr>\n    <tr>\n      <th>9481</th>\n      <td>IN7644</td>\n      <td>75101</td>\n    </tr>\n    <tr>\n      <th>9482</th>\n      <td>IN7631</td>\n      <td>75151</td>\n    </tr>\n    <tr>\n      <th>9483</th>\n      <td>16222</td>\n      <td>75201</td>\n    </tr>\n    <tr>\n      <th>9484</th>\n      <td>15769</td>\n      <td>75202</td>\n    </tr>\n  </tbody>\n</table>\n<p>9485 rows × 2 columns</p>\n</div>",
       "datasetInfos": [],
       "metadata": {},
       "removedWidgets": [],
       "textData": null,
       "type": "htmlSandbox"
      }
     },
     "output_type": "display_data"
    }
   ],
   "source": [
    "df_adressnummer_vs_contactid = get_adressnummer_vs_contactid()\n",
    "df_adressnummer_vs_contactid"
   ]
  },
  {
   "cell_type": "markdown",
   "metadata": {
    "application/vnd.databricks.v1+cell": {
     "cellMetadata": {
      "byteLimit": 2048000,
      "rowLimit": 10000
     },
     "inputWidgets": {},
     "nuid": "89b41933-54c7-4cb5-893d-884f6a96daaa",
     "showTitle": false,
     "title": ""
    }
   },
   "source": [
    "## AdressenID vs. HSCompanyID"
   ]
  },
  {
   "cell_type": "code",
   "execution_count": 0,
   "metadata": {
    "application/vnd.databricks.v1+cell": {
     "cellMetadata": {
      "byteLimit": 2048000,
      "rowLimit": 10000
     },
     "inputWidgets": {},
     "nuid": "c61bdc00-1b17-4bbf-b3d7-116c5daf0dbf",
     "showTitle": false,
     "title": ""
    }
   },
   "outputs": [
    {
     "output_type": "display_data",
     "data": {
      "text/html": [
       "<style scoped>\n",
       "  .ansiout {\n",
       "    display: block;\n",
       "    unicode-bidi: embed;\n",
       "    white-space: pre-wrap;\n",
       "    word-wrap: break-word;\n",
       "    word-break: break-all;\n",
       "    font-family: \"Source Code Pro\", \"Menlo\", monospace;;\n",
       "    font-size: 13px;\n",
       "    color: #555;\n",
       "    margin-left: 4px;\n",
       "    line-height: 19px;\n",
       "  }\n",
       "</style>\n",
       "<div class=\"ansiout\"></div>"
      ]
     },
     "metadata": {
      "application/vnd.databricks.v1+output": {
       "addedWidgets": {},
       "arguments": {},
       "data": "<div class=\"ansiout\"></div>",
       "datasetInfos": [],
       "metadata": {},
       "removedWidgets": [],
       "type": "html"
      }
     },
     "output_type": "display_data"
    }
   ],
   "source": [
    "def get_adressenid_vs_hscompanyid():\n",
    "    batches_list = []\n",
    "    next_after = None\n",
    "\n",
    "    while True:\n",
    "        api_response = client.crm.companies.basic_api.get_page(limit=100, archived=False, after=next_after, properties=['k_alphaplan_addressenid_hubspot'])\n",
    "        paging = api_response.paging\n",
    "        results = api_response.results \n",
    "        if results == []:\n",
    "            break\n",
    "        else:\n",
    "            if paging != None:   \n",
    "                next_after = api_response.paging.next.after    \n",
    "                contacts_batch = []        \n",
    "                for c in results:\n",
    "                    obj = { 'addressenid': c.properties['k_alphaplan_addressenid_hubspot'],\n",
    "                            'hs_company_id': c.id\n",
    "                    }\n",
    "                    contacts_batch.append( obj)\n",
    "                batches_list.append(contacts_batch)\n",
    "            else:\n",
    "                contacts_batch = []        \n",
    "                for c in results:\n",
    "                    obj = { 'addressenid': c.properties['k_alphaplan_addressenid_hubspot'],\n",
    "                            'hs_company_id': c.id\n",
    "                    }\n",
    "                    contacts_batch.append(obj)\n",
    "                batches_list.append(contacts_batch)\n",
    "                break\n",
    "    flattened_list = [element for sublist in batches_list for element in sublist]\n",
    "    AdressenID_vs_HSCompanyID = pd.DataFrame(flattened_list)\n",
    "    AdressenID_vs_HSCompanyID = AdressenID_vs_HSCompanyID.rename(columns={'addressenid':'AdressenID'})\n",
    "    AdressenID_vs_HSCompanyID['AdressenID'] = AdressenID_vs_HSCompanyID['AdressenID'].astype('int')\n",
    "    return AdressenID_vs_HSCompanyID"
   ]
  },
  {
   "cell_type": "code",
   "execution_count": 0,
   "metadata": {
    "application/vnd.databricks.v1+cell": {
     "cellMetadata": {
      "byteLimit": 2048000,
      "rowLimit": 10000
     },
     "inputWidgets": {},
     "nuid": "780b2e40-662a-4819-bcdd-63940ca898d9",
     "showTitle": false,
     "title": ""
    }
   },
   "outputs": [
    {
     "output_type": "display_data",
     "data": {
      "text/html": [
       "<style scoped>\n",
       "  .ansiout {\n",
       "    display: block;\n",
       "    unicode-bidi: embed;\n",
       "    white-space: pre-wrap;\n",
       "    word-wrap: break-word;\n",
       "    word-break: break-all;\n",
       "    font-family: \"Source Code Pro\", \"Menlo\", monospace;;\n",
       "    font-size: 13px;\n",
       "    color: #555;\n",
       "    margin-left: 4px;\n",
       "    line-height: 19px;\n",
       "  }\n",
       "</style>\n",
       "<div class=\"ansiout\"></div>"
      ]
     },
     "metadata": {
      "application/vnd.databricks.v1+output": {
       "addedWidgets": {},
       "arguments": {},
       "data": "<div class=\"ansiout\"></div>",
       "datasetInfos": [],
       "metadata": {},
       "removedWidgets": [],
       "type": "html"
      }
     },
     "output_type": "display_data"
    }
   ],
   "source": [
    "AdressenID_vs_HSCompanyID = get_adressenid_vs_hscompanyid()"
   ]
  },
  {
   "cell_type": "code",
   "execution_count": 0,
   "metadata": {
    "application/vnd.databricks.v1+cell": {
     "cellMetadata": {
      "byteLimit": 2048000,
      "rowLimit": 10000
     },
     "inputWidgets": {},
     "nuid": "5e6474bd-fb32-4886-9e64-29319a84b9ce",
     "showTitle": false,
     "title": ""
    }
   },
   "outputs": [
    {
     "output_type": "display_data",
     "data": {
      "text/html": [
       "<style scoped>\n",
       "  .ansiout {\n",
       "    display: block;\n",
       "    unicode-bidi: embed;\n",
       "    white-space: pre-wrap;\n",
       "    word-wrap: break-word;\n",
       "    word-break: break-all;\n",
       "    font-family: \"Source Code Pro\", \"Menlo\", monospace;;\n",
       "    font-size: 13px;\n",
       "    color: #555;\n",
       "    margin-left: 4px;\n",
       "    line-height: 19px;\n",
       "  }\n",
       "</style>\n",
       "<div class=\"ansiout\">Out[5]: </div>"
      ]
     },
     "metadata": {
      "application/vnd.databricks.v1+output": {
       "addedWidgets": {},
       "arguments": {},
       "data": "<div class=\"ansiout\">Out[5]: </div>",
       "datasetInfos": [],
       "metadata": {},
       "removedWidgets": [],
       "type": "html"
      }
     },
     "output_type": "display_data"
    },
    {
     "output_type": "display_data",
     "data": {
      "text/html": [
       "<div>\n",
       "<style scoped>\n",
       "    .dataframe tbody tr th:only-of-type {\n",
       "        vertical-align: middle;\n",
       "    }\n",
       "\n",
       "    .dataframe tbody tr th {\n",
       "        vertical-align: top;\n",
       "    }\n",
       "\n",
       "    .dataframe thead th {\n",
       "        text-align: right;\n",
       "    }\n",
       "</style>\n",
       "<table border=\"1\" class=\"dataframe\">\n",
       "  <thead>\n",
       "    <tr style=\"text-align: right;\">\n",
       "      <th></th>\n",
       "      <th>AdressenID</th>\n",
       "      <th>hs_company_id</th>\n",
       "    </tr>\n",
       "  </thead>\n",
       "  <tbody>\n",
       "    <tr>\n",
       "      <th>0</th>\n",
       "      <td>1901</td>\n",
       "      <td>8047972080</td>\n",
       "    </tr>\n",
       "    <tr>\n",
       "      <th>1</th>\n",
       "      <td>1387</td>\n",
       "      <td>8047972081</td>\n",
       "    </tr>\n",
       "    <tr>\n",
       "      <th>2</th>\n",
       "      <td>70</td>\n",
       "      <td>8047972082</td>\n",
       "    </tr>\n",
       "    <tr>\n",
       "      <th>3</th>\n",
       "      <td>2862</td>\n",
       "      <td>8047972083</td>\n",
       "    </tr>\n",
       "    <tr>\n",
       "      <th>4</th>\n",
       "      <td>2561</td>\n",
       "      <td>8047972084</td>\n",
       "    </tr>\n",
       "    <tr>\n",
       "      <th>...</th>\n",
       "      <td>...</td>\n",
       "      <td>...</td>\n",
       "    </tr>\n",
       "    <tr>\n",
       "      <th>8426</th>\n",
       "      <td>11588</td>\n",
       "      <td>8049607105</td>\n",
       "    </tr>\n",
       "    <tr>\n",
       "      <th>8427</th>\n",
       "      <td>11610</td>\n",
       "      <td>8049607106</td>\n",
       "    </tr>\n",
       "    <tr>\n",
       "      <th>8428</th>\n",
       "      <td>11631</td>\n",
       "      <td>8049607107</td>\n",
       "    </tr>\n",
       "    <tr>\n",
       "      <th>8429</th>\n",
       "      <td>11590</td>\n",
       "      <td>8049607108</td>\n",
       "    </tr>\n",
       "    <tr>\n",
       "      <th>8430</th>\n",
       "      <td>11594</td>\n",
       "      <td>8049607109</td>\n",
       "    </tr>\n",
       "  </tbody>\n",
       "</table>\n",
       "<p>8431 rows × 2 columns</p>\n",
       "</div>"
      ]
     },
     "metadata": {
      "application/vnd.databricks.v1+output": {
       "addedWidgets": {},
       "arguments": {},
       "data": "<div>\n<style scoped>\n    .dataframe tbody tr th:only-of-type {\n        vertical-align: middle;\n    }\n\n    .dataframe tbody tr th {\n        vertical-align: top;\n    }\n\n    .dataframe thead th {\n        text-align: right;\n    }\n</style>\n<table border=\"1\" class=\"dataframe\">\n  <thead>\n    <tr style=\"text-align: right;\">\n      <th></th>\n      <th>AdressenID</th>\n      <th>hs_company_id</th>\n    </tr>\n  </thead>\n  <tbody>\n    <tr>\n      <th>0</th>\n      <td>1901</td>\n      <td>8047972080</td>\n    </tr>\n    <tr>\n      <th>1</th>\n      <td>1387</td>\n      <td>8047972081</td>\n    </tr>\n    <tr>\n      <th>2</th>\n      <td>70</td>\n      <td>8047972082</td>\n    </tr>\n    <tr>\n      <th>3</th>\n      <td>2862</td>\n      <td>8047972083</td>\n    </tr>\n    <tr>\n      <th>4</th>\n      <td>2561</td>\n      <td>8047972084</td>\n    </tr>\n    <tr>\n      <th>...</th>\n      <td>...</td>\n      <td>...</td>\n    </tr>\n    <tr>\n      <th>8426</th>\n      <td>11588</td>\n      <td>8049607105</td>\n    </tr>\n    <tr>\n      <th>8427</th>\n      <td>11610</td>\n      <td>8049607106</td>\n    </tr>\n    <tr>\n      <th>8428</th>\n      <td>11631</td>\n      <td>8049607107</td>\n    </tr>\n    <tr>\n      <th>8429</th>\n      <td>11590</td>\n      <td>8049607108</td>\n    </tr>\n    <tr>\n      <th>8430</th>\n      <td>11594</td>\n      <td>8049607109</td>\n    </tr>\n  </tbody>\n</table>\n<p>8431 rows × 2 columns</p>\n</div>",
       "datasetInfos": [],
       "metadata": {},
       "removedWidgets": [],
       "textData": null,
       "type": "htmlSandbox"
      }
     },
     "output_type": "display_data"
    }
   ],
   "source": [
    "AdressenID_vs_HSCompanyID"
   ]
  },
  {
   "cell_type": "markdown",
   "metadata": {
    "application/vnd.databricks.v1+cell": {
     "cellMetadata": {
      "byteLimit": 2048000,
      "rowLimit": 10000
     },
     "inputWidgets": {},
     "nuid": "16ff10a2-ec99-4ea2-b5ce-b8569df34bd3",
     "showTitle": false,
     "title": ""
    }
   },
   "source": [
    "## AdressenID vs. AdressNummer"
   ]
  },
  {
   "cell_type": "code",
   "execution_count": 0,
   "metadata": {
    "application/vnd.databricks.v1+cell": {
     "cellMetadata": {
      "byteLimit": 2048000,
      "rowLimit": 10000
     },
     "inputWidgets": {},
     "nuid": "f81356b6-fc8e-458e-bbbf-ad8a376918a4",
     "showTitle": false,
     "title": ""
    }
   },
   "outputs": [
    {
     "output_type": "display_data",
     "data": {
      "text/html": [
       "<style scoped>\n",
       "  .ansiout {\n",
       "    display: block;\n",
       "    unicode-bidi: embed;\n",
       "    white-space: pre-wrap;\n",
       "    word-wrap: break-word;\n",
       "    word-break: break-all;\n",
       "    font-family: \"Source Code Pro\", \"Menlo\", monospace;;\n",
       "    font-size: 13px;\n",
       "    color: #555;\n",
       "    margin-left: 4px;\n",
       "    line-height: 19px;\n",
       "  }\n",
       "</style>\n",
       "<div class=\"ansiout\"></div>"
      ]
     },
     "metadata": {
      "application/vnd.databricks.v1+output": {
       "addedWidgets": {},
       "arguments": {},
       "data": "<div class=\"ansiout\"></div>",
       "datasetInfos": [],
       "metadata": {},
       "removedWidgets": [],
       "type": "html"
      }
     },
     "output_type": "display_data"
    }
   ],
   "source": [
    "def get_adressenid_vs_adressnummer():\n",
    "    AdressenID_vs_AdressNummer = pd.read_csv('/dbfs/mnt/alphaplanexports/Adressnummern230710.CSV', sep=';',  encoding='latin1')\n",
    "    AdressenID_vs_AdressNummer = AdressenID_vs_AdressNummer[AdressenID_vs_AdressNummer['AdressNummer'].notnull()]\n",
    "    return AdressenID_vs_AdressNummer"
   ]
  },
  {
   "cell_type": "code",
   "execution_count": 0,
   "metadata": {
    "application/vnd.databricks.v1+cell": {
     "cellMetadata": {
      "byteLimit": 2048000,
      "rowLimit": 10000
     },
     "inputWidgets": {},
     "nuid": "db6c834e-d442-4623-ba0e-994463833ca5",
     "showTitle": false,
     "title": ""
    }
   },
   "outputs": [
    {
     "output_type": "display_data",
     "data": {
      "text/html": [
       "<style scoped>\n",
       "  .ansiout {\n",
       "    display: block;\n",
       "    unicode-bidi: embed;\n",
       "    white-space: pre-wrap;\n",
       "    word-wrap: break-word;\n",
       "    word-break: break-all;\n",
       "    font-family: \"Source Code Pro\", \"Menlo\", monospace;;\n",
       "    font-size: 13px;\n",
       "    color: #555;\n",
       "    margin-left: 4px;\n",
       "    line-height: 19px;\n",
       "  }\n",
       "</style>\n",
       "<div class=\"ansiout\">Out[7]: </div>"
      ]
     },
     "metadata": {
      "application/vnd.databricks.v1+output": {
       "addedWidgets": {},
       "arguments": {},
       "data": "<div class=\"ansiout\">Out[7]: </div>",
       "datasetInfos": [],
       "metadata": {},
       "removedWidgets": [],
       "type": "html"
      }
     },
     "output_type": "display_data"
    },
    {
     "output_type": "display_data",
     "data": {
      "text/html": [
       "<div>\n",
       "<style scoped>\n",
       "    .dataframe tbody tr th:only-of-type {\n",
       "        vertical-align: middle;\n",
       "    }\n",
       "\n",
       "    .dataframe tbody tr th {\n",
       "        vertical-align: top;\n",
       "    }\n",
       "\n",
       "    .dataframe thead th {\n",
       "        text-align: right;\n",
       "    }\n",
       "</style>\n",
       "<table border=\"1\" class=\"dataframe\">\n",
       "  <thead>\n",
       "    <tr style=\"text-align: right;\">\n",
       "      <th></th>\n",
       "      <th>AdressenID</th>\n",
       "      <th>AdressNummer</th>\n",
       "    </tr>\n",
       "  </thead>\n",
       "  <tbody>\n",
       "    <tr>\n",
       "      <th>1</th>\n",
       "      <td>2</td>\n",
       "      <td>70001</td>\n",
       "    </tr>\n",
       "    <tr>\n",
       "      <th>2</th>\n",
       "      <td>3</td>\n",
       "      <td>70003</td>\n",
       "    </tr>\n",
       "    <tr>\n",
       "      <th>3</th>\n",
       "      <td>4</td>\n",
       "      <td>70004</td>\n",
       "    </tr>\n",
       "    <tr>\n",
       "      <th>4</th>\n",
       "      <td>5</td>\n",
       "      <td>70006</td>\n",
       "    </tr>\n",
       "    <tr>\n",
       "      <th>5</th>\n",
       "      <td>6</td>\n",
       "      <td>70007</td>\n",
       "    </tr>\n",
       "    <tr>\n",
       "      <th>...</th>\n",
       "      <td>...</td>\n",
       "      <td>...</td>\n",
       "    </tr>\n",
       "    <tr>\n",
       "      <th>8453</th>\n",
       "      <td>11621</td>\n",
       "      <td>16449</td>\n",
       "    </tr>\n",
       "    <tr>\n",
       "      <th>8454</th>\n",
       "      <td>11622</td>\n",
       "      <td>16450</td>\n",
       "    </tr>\n",
       "    <tr>\n",
       "      <th>8455</th>\n",
       "      <td>11623</td>\n",
       "      <td>16451</td>\n",
       "    </tr>\n",
       "    <tr>\n",
       "      <th>8456</th>\n",
       "      <td>11624</td>\n",
       "      <td>16452</td>\n",
       "    </tr>\n",
       "    <tr>\n",
       "      <th>8457</th>\n",
       "      <td>11625</td>\n",
       "      <td>16453</td>\n",
       "    </tr>\n",
       "  </tbody>\n",
       "</table>\n",
       "<p>8457 rows × 2 columns</p>\n",
       "</div>"
      ]
     },
     "metadata": {
      "application/vnd.databricks.v1+output": {
       "addedWidgets": {},
       "arguments": {},
       "data": "<div>\n<style scoped>\n    .dataframe tbody tr th:only-of-type {\n        vertical-align: middle;\n    }\n\n    .dataframe tbody tr th {\n        vertical-align: top;\n    }\n\n    .dataframe thead th {\n        text-align: right;\n    }\n</style>\n<table border=\"1\" class=\"dataframe\">\n  <thead>\n    <tr style=\"text-align: right;\">\n      <th></th>\n      <th>AdressenID</th>\n      <th>AdressNummer</th>\n    </tr>\n  </thead>\n  <tbody>\n    <tr>\n      <th>1</th>\n      <td>2</td>\n      <td>70001</td>\n    </tr>\n    <tr>\n      <th>2</th>\n      <td>3</td>\n      <td>70003</td>\n    </tr>\n    <tr>\n      <th>3</th>\n      <td>4</td>\n      <td>70004</td>\n    </tr>\n    <tr>\n      <th>4</th>\n      <td>5</td>\n      <td>70006</td>\n    </tr>\n    <tr>\n      <th>5</th>\n      <td>6</td>\n      <td>70007</td>\n    </tr>\n    <tr>\n      <th>...</th>\n      <td>...</td>\n      <td>...</td>\n    </tr>\n    <tr>\n      <th>8453</th>\n      <td>11621</td>\n      <td>16449</td>\n    </tr>\n    <tr>\n      <th>8454</th>\n      <td>11622</td>\n      <td>16450</td>\n    </tr>\n    <tr>\n      <th>8455</th>\n      <td>11623</td>\n      <td>16451</td>\n    </tr>\n    <tr>\n      <th>8456</th>\n      <td>11624</td>\n      <td>16452</td>\n    </tr>\n    <tr>\n      <th>8457</th>\n      <td>11625</td>\n      <td>16453</td>\n    </tr>\n  </tbody>\n</table>\n<p>8457 rows × 2 columns</p>\n</div>",
       "datasetInfos": [],
       "metadata": {},
       "removedWidgets": [],
       "textData": null,
       "type": "htmlSandbox"
      }
     },
     "output_type": "display_data"
    }
   ],
   "source": [
    "AdressenID_vs_AdressNummer = get_adressenid_vs_adressnummer()\n",
    "AdressenID_vs_AdressNummer"
   ]
  },
  {
   "cell_type": "markdown",
   "metadata": {
    "application/vnd.databricks.v1+cell": {
     "cellMetadata": {
      "byteLimit": 2048000,
      "rowLimit": 10000
     },
     "inputWidgets": {},
     "nuid": "e4f7186d-96f4-49e6-83dd-b4583274e361",
     "showTitle": false,
     "title": ""
    }
   },
   "source": [
    "## AdressNummer vs. HSCompanyID"
   ]
  },
  {
   "cell_type": "code",
   "execution_count": 0,
   "metadata": {
    "application/vnd.databricks.v1+cell": {
     "cellMetadata": {
      "byteLimit": 2048000,
      "rowLimit": 10000
     },
     "inputWidgets": {},
     "nuid": "311a18ab-4acb-4303-9f97-fae26f65022f",
     "showTitle": false,
     "title": ""
    }
   },
   "outputs": [
    {
     "output_type": "display_data",
     "data": {
      "text/html": [
       "<style scoped>\n",
       "  .ansiout {\n",
       "    display: block;\n",
       "    unicode-bidi: embed;\n",
       "    white-space: pre-wrap;\n",
       "    word-wrap: break-word;\n",
       "    word-break: break-all;\n",
       "    font-family: \"Source Code Pro\", \"Menlo\", monospace;;\n",
       "    font-size: 13px;\n",
       "    color: #555;\n",
       "    margin-left: 4px;\n",
       "    line-height: 19px;\n",
       "  }\n",
       "</style>\n",
       "<div class=\"ansiout\"></div>"
      ]
     },
     "metadata": {
      "application/vnd.databricks.v1+output": {
       "addedWidgets": {},
       "arguments": {},
       "data": "<div class=\"ansiout\"></div>",
       "datasetInfos": [],
       "metadata": {},
       "removedWidgets": [],
       "type": "html"
      }
     },
     "output_type": "display_data"
    }
   ],
   "source": [
    "AdressNummer_vs_HSCompanyID = AdressenID_vs_AdressNummer.merge(AdressenID_vs_HSCompanyID, on='AdressenID', how='inner')[['AdressNummer', 'hs_company_id']]"
   ]
  },
  {
   "cell_type": "code",
   "execution_count": 0,
   "metadata": {
    "application/vnd.databricks.v1+cell": {
     "cellMetadata": {
      "byteLimit": 2048000,
      "rowLimit": 10000
     },
     "inputWidgets": {},
     "nuid": "87a0ba24-6783-4809-b79b-0a9895152062",
     "showTitle": false,
     "title": ""
    }
   },
   "outputs": [
    {
     "output_type": "display_data",
     "data": {
      "text/html": [
       "<style scoped>\n",
       "  .ansiout {\n",
       "    display: block;\n",
       "    unicode-bidi: embed;\n",
       "    white-space: pre-wrap;\n",
       "    word-wrap: break-word;\n",
       "    word-break: break-all;\n",
       "    font-family: \"Source Code Pro\", \"Menlo\", monospace;;\n",
       "    font-size: 13px;\n",
       "    color: #555;\n",
       "    margin-left: 4px;\n",
       "    line-height: 19px;\n",
       "  }\n",
       "</style>\n",
       "<div class=\"ansiout\">Out[9]: </div>"
      ]
     },
     "metadata": {
      "application/vnd.databricks.v1+output": {
       "addedWidgets": {},
       "arguments": {},
       "data": "<div class=\"ansiout\">Out[9]: </div>",
       "datasetInfos": [],
       "metadata": {},
       "removedWidgets": [],
       "type": "html"
      }
     },
     "output_type": "display_data"
    },
    {
     "output_type": "display_data",
     "data": {
      "text/html": [
       "<div>\n",
       "<style scoped>\n",
       "    .dataframe tbody tr th:only-of-type {\n",
       "        vertical-align: middle;\n",
       "    }\n",
       "\n",
       "    .dataframe tbody tr th {\n",
       "        vertical-align: top;\n",
       "    }\n",
       "\n",
       "    .dataframe thead th {\n",
       "        text-align: right;\n",
       "    }\n",
       "</style>\n",
       "<table border=\"1\" class=\"dataframe\">\n",
       "  <thead>\n",
       "    <tr style=\"text-align: right;\">\n",
       "      <th></th>\n",
       "      <th>AdressNummer</th>\n",
       "      <th>hs_company_id</th>\n",
       "    </tr>\n",
       "  </thead>\n",
       "  <tbody>\n",
       "    <tr>\n",
       "      <th>0</th>\n",
       "      <td>70001</td>\n",
       "      <td>8049506788</td>\n",
       "    </tr>\n",
       "    <tr>\n",
       "      <th>1</th>\n",
       "      <td>70003</td>\n",
       "      <td>8049582797</td>\n",
       "    </tr>\n",
       "    <tr>\n",
       "      <th>2</th>\n",
       "      <td>70004</td>\n",
       "      <td>8047996377</td>\n",
       "    </tr>\n",
       "    <tr>\n",
       "      <th>3</th>\n",
       "      <td>70006</td>\n",
       "      <td>8049583070</td>\n",
       "    </tr>\n",
       "    <tr>\n",
       "      <th>4</th>\n",
       "      <td>70007</td>\n",
       "      <td>8049539273</td>\n",
       "    </tr>\n",
       "    <tr>\n",
       "      <th>...</th>\n",
       "      <td>...</td>\n",
       "      <td>...</td>\n",
       "    </tr>\n",
       "    <tr>\n",
       "      <th>8423</th>\n",
       "      <td>16440</td>\n",
       "      <td>8049607101</td>\n",
       "    </tr>\n",
       "    <tr>\n",
       "      <th>8424</th>\n",
       "      <td>16441</td>\n",
       "      <td>8049606891</td>\n",
       "    </tr>\n",
       "    <tr>\n",
       "      <th>8425</th>\n",
       "      <td>16442</td>\n",
       "      <td>8049606901</td>\n",
       "    </tr>\n",
       "    <tr>\n",
       "      <th>8426</th>\n",
       "      <td>16444</td>\n",
       "      <td>8049607100</td>\n",
       "    </tr>\n",
       "    <tr>\n",
       "      <th>8427</th>\n",
       "      <td>16446</td>\n",
       "      <td>8049606888</td>\n",
       "    </tr>\n",
       "  </tbody>\n",
       "</table>\n",
       "<p>8428 rows × 2 columns</p>\n",
       "</div>"
      ]
     },
     "metadata": {
      "application/vnd.databricks.v1+output": {
       "addedWidgets": {},
       "arguments": {},
       "data": "<div>\n<style scoped>\n    .dataframe tbody tr th:only-of-type {\n        vertical-align: middle;\n    }\n\n    .dataframe tbody tr th {\n        vertical-align: top;\n    }\n\n    .dataframe thead th {\n        text-align: right;\n    }\n</style>\n<table border=\"1\" class=\"dataframe\">\n  <thead>\n    <tr style=\"text-align: right;\">\n      <th></th>\n      <th>AdressNummer</th>\n      <th>hs_company_id</th>\n    </tr>\n  </thead>\n  <tbody>\n    <tr>\n      <th>0</th>\n      <td>70001</td>\n      <td>8049506788</td>\n    </tr>\n    <tr>\n      <th>1</th>\n      <td>70003</td>\n      <td>8049582797</td>\n    </tr>\n    <tr>\n      <th>2</th>\n      <td>70004</td>\n      <td>8047996377</td>\n    </tr>\n    <tr>\n      <th>3</th>\n      <td>70006</td>\n      <td>8049583070</td>\n    </tr>\n    <tr>\n      <th>4</th>\n      <td>70007</td>\n      <td>8049539273</td>\n    </tr>\n    <tr>\n      <th>...</th>\n      <td>...</td>\n      <td>...</td>\n    </tr>\n    <tr>\n      <th>8423</th>\n      <td>16440</td>\n      <td>8049607101</td>\n    </tr>\n    <tr>\n      <th>8424</th>\n      <td>16441</td>\n      <td>8049606891</td>\n    </tr>\n    <tr>\n      <th>8425</th>\n      <td>16442</td>\n      <td>8049606901</td>\n    </tr>\n    <tr>\n      <th>8426</th>\n      <td>16444</td>\n      <td>8049607100</td>\n    </tr>\n    <tr>\n      <th>8427</th>\n      <td>16446</td>\n      <td>8049606888</td>\n    </tr>\n  </tbody>\n</table>\n<p>8428 rows × 2 columns</p>\n</div>",
       "datasetInfos": [],
       "metadata": {},
       "removedWidgets": [],
       "textData": null,
       "type": "htmlSandbox"
      }
     },
     "output_type": "display_data"
    }
   ],
   "source": [
    "AdressNummer_vs_HSCompanyID"
   ]
  },
  {
   "cell_type": "markdown",
   "metadata": {
    "application/vnd.databricks.v1+cell": {
     "cellMetadata": {
      "byteLimit": 2048000,
      "rowLimit": 10000
     },
     "inputWidgets": {},
     "nuid": "5b324fd0-0a7a-4548-84db-ea06c89275a0",
     "showTitle": false,
     "title": ""
    }
   },
   "source": [
    "## HSContactID vs. HSCompanyID"
   ]
  },
  {
   "cell_type": "code",
   "execution_count": 0,
   "metadata": {
    "application/vnd.databricks.v1+cell": {
     "cellMetadata": {
      "byteLimit": 2048000,
      "rowLimit": 10000
     },
     "inputWidgets": {},
     "nuid": "51265c5d-0ee3-49ab-9a08-a7b9b3f13173",
     "showTitle": false,
     "title": ""
    }
   },
   "outputs": [
    {
     "output_type": "display_data",
     "data": {
      "text/html": [
       "<style scoped>\n",
       "  .ansiout {\n",
       "    display: block;\n",
       "    unicode-bidi: embed;\n",
       "    white-space: pre-wrap;\n",
       "    word-wrap: break-word;\n",
       "    word-break: break-all;\n",
       "    font-family: \"Source Code Pro\", \"Menlo\", monospace;;\n",
       "    font-size: 13px;\n",
       "    color: #555;\n",
       "    margin-left: 4px;\n",
       "    line-height: 19px;\n",
       "  }\n",
       "</style>\n",
       "<div class=\"ansiout\"></div>"
      ]
     },
     "metadata": {
      "application/vnd.databricks.v1+output": {
       "addedWidgets": {},
       "arguments": {},
       "data": "<div class=\"ansiout\"></div>",
       "datasetInfos": [],
       "metadata": {},
       "removedWidgets": [],
       "type": "html"
      }
     },
     "output_type": "display_data"
    }
   ],
   "source": [
    "HSContactID_vs_HSCompanyID = df_adressnummer_vs_contactid.merge(AdressNummer_vs_HSCompanyID, on='AdressNummer', how='inner')[['hs_contact_id', 'hs_company_id']]"
   ]
  },
  {
   "cell_type": "code",
   "execution_count": 0,
   "metadata": {
    "application/vnd.databricks.v1+cell": {
     "cellMetadata": {
      "byteLimit": 2048000,
      "rowLimit": 10000
     },
     "inputWidgets": {},
     "nuid": "c1becad6-f1d0-4c58-bc5a-c5c5e57a2458",
     "showTitle": false,
     "title": ""
    }
   },
   "outputs": [
    {
     "output_type": "display_data",
     "data": {
      "text/html": [
       "<style scoped>\n",
       "  .ansiout {\n",
       "    display: block;\n",
       "    unicode-bidi: embed;\n",
       "    white-space: pre-wrap;\n",
       "    word-wrap: break-word;\n",
       "    word-break: break-all;\n",
       "    font-family: \"Source Code Pro\", \"Menlo\", monospace;;\n",
       "    font-size: 13px;\n",
       "    color: #555;\n",
       "    margin-left: 4px;\n",
       "    line-height: 19px;\n",
       "  }\n",
       "</style>\n",
       "<div class=\"ansiout\">Out[11]: </div>"
      ]
     },
     "metadata": {
      "application/vnd.databricks.v1+output": {
       "addedWidgets": {},
       "arguments": {},
       "data": "<div class=\"ansiout\">Out[11]: </div>",
       "datasetInfos": [],
       "metadata": {},
       "removedWidgets": [],
       "type": "html"
      }
     },
     "output_type": "display_data"
    },
    {
     "output_type": "display_data",
     "data": {
      "text/html": [
       "<div>\n",
       "<style scoped>\n",
       "    .dataframe tbody tr th:only-of-type {\n",
       "        vertical-align: middle;\n",
       "    }\n",
       "\n",
       "    .dataframe tbody tr th {\n",
       "        vertical-align: top;\n",
       "    }\n",
       "\n",
       "    .dataframe thead th {\n",
       "        text-align: right;\n",
       "    }\n",
       "</style>\n",
       "<table border=\"1\" class=\"dataframe\">\n",
       "  <thead>\n",
       "    <tr style=\"text-align: right;\">\n",
       "      <th></th>\n",
       "      <th>hs_contact_id</th>\n",
       "      <th>hs_company_id</th>\n",
       "    </tr>\n",
       "  </thead>\n",
       "  <tbody>\n",
       "    <tr>\n",
       "      <th>0</th>\n",
       "      <td>63204</td>\n",
       "      <td>8049606872</td>\n",
       "    </tr>\n",
       "    <tr>\n",
       "      <th>1</th>\n",
       "      <td>74086</td>\n",
       "      <td>8049606872</td>\n",
       "    </tr>\n",
       "    <tr>\n",
       "      <th>2</th>\n",
       "      <td>74279</td>\n",
       "      <td>8049606872</td>\n",
       "    </tr>\n",
       "    <tr>\n",
       "      <th>3</th>\n",
       "      <td>63207</td>\n",
       "      <td>8049538500</td>\n",
       "    </tr>\n",
       "    <tr>\n",
       "      <th>4</th>\n",
       "      <td>68072</td>\n",
       "      <td>8049538500</td>\n",
       "    </tr>\n",
       "    <tr>\n",
       "      <th>...</th>\n",
       "      <td>...</td>\n",
       "      <td>...</td>\n",
       "    </tr>\n",
       "    <tr>\n",
       "      <th>8586</th>\n",
       "      <td>75006</td>\n",
       "      <td>8049540066</td>\n",
       "    </tr>\n",
       "    <tr>\n",
       "      <th>8587</th>\n",
       "      <td>75052</td>\n",
       "      <td>8049607099</td>\n",
       "    </tr>\n",
       "    <tr>\n",
       "      <th>8588</th>\n",
       "      <td>75055</td>\n",
       "      <td>8049540074</td>\n",
       "    </tr>\n",
       "    <tr>\n",
       "      <th>8589</th>\n",
       "      <td>75056</td>\n",
       "      <td>8049540061</td>\n",
       "    </tr>\n",
       "    <tr>\n",
       "      <th>8590</th>\n",
       "      <td>75101</td>\n",
       "      <td>8049606894</td>\n",
       "    </tr>\n",
       "  </tbody>\n",
       "</table>\n",
       "<p>8591 rows × 2 columns</p>\n",
       "</div>"
      ]
     },
     "metadata": {
      "application/vnd.databricks.v1+output": {
       "addedWidgets": {},
       "arguments": {},
       "data": "<div>\n<style scoped>\n    .dataframe tbody tr th:only-of-type {\n        vertical-align: middle;\n    }\n\n    .dataframe tbody tr th {\n        vertical-align: top;\n    }\n\n    .dataframe thead th {\n        text-align: right;\n    }\n</style>\n<table border=\"1\" class=\"dataframe\">\n  <thead>\n    <tr style=\"text-align: right;\">\n      <th></th>\n      <th>hs_contact_id</th>\n      <th>hs_company_id</th>\n    </tr>\n  </thead>\n  <tbody>\n    <tr>\n      <th>0</th>\n      <td>63204</td>\n      <td>8049606872</td>\n    </tr>\n    <tr>\n      <th>1</th>\n      <td>74086</td>\n      <td>8049606872</td>\n    </tr>\n    <tr>\n      <th>2</th>\n      <td>74279</td>\n      <td>8049606872</td>\n    </tr>\n    <tr>\n      <th>3</th>\n      <td>63207</td>\n      <td>8049538500</td>\n    </tr>\n    <tr>\n      <th>4</th>\n      <td>68072</td>\n      <td>8049538500</td>\n    </tr>\n    <tr>\n      <th>...</th>\n      <td>...</td>\n      <td>...</td>\n    </tr>\n    <tr>\n      <th>8586</th>\n      <td>75006</td>\n      <td>8049540066</td>\n    </tr>\n    <tr>\n      <th>8587</th>\n      <td>75052</td>\n      <td>8049607099</td>\n    </tr>\n    <tr>\n      <th>8588</th>\n      <td>75055</td>\n      <td>8049540074</td>\n    </tr>\n    <tr>\n      <th>8589</th>\n      <td>75056</td>\n      <td>8049540061</td>\n    </tr>\n    <tr>\n      <th>8590</th>\n      <td>75101</td>\n      <td>8049606894</td>\n    </tr>\n  </tbody>\n</table>\n<p>8591 rows × 2 columns</p>\n</div>",
       "datasetInfos": [],
       "metadata": {},
       "removedWidgets": [],
       "textData": null,
       "type": "htmlSandbox"
      }
     },
     "output_type": "display_data"
    }
   ],
   "source": [
    "HSContactID_vs_HSCompanyID"
   ]
  },
  {
   "cell_type": "code",
   "execution_count": 0,
   "metadata": {
    "application/vnd.databricks.v1+cell": {
     "cellMetadata": {
      "byteLimit": 2048000,
      "rowLimit": 10000
     },
     "inputWidgets": {},
     "nuid": "f36b0e49-845c-4b87-9fe0-44420278963e",
     "showTitle": false,
     "title": ""
    }
   },
   "outputs": [
    {
     "output_type": "display_data",
     "data": {
      "text/html": [
       "<style scoped>\n",
       "  .ansiout {\n",
       "    display: block;\n",
       "    unicode-bidi: embed;\n",
       "    white-space: pre-wrap;\n",
       "    word-wrap: break-word;\n",
       "    word-break: break-all;\n",
       "    font-family: \"Source Code Pro\", \"Menlo\", monospace;;\n",
       "    font-size: 13px;\n",
       "    color: #555;\n",
       "    margin-left: 4px;\n",
       "    line-height: 19px;\n",
       "  }\n",
       "</style>\n",
       "<div class=\"ansiout\"></div>"
      ]
     },
     "metadata": {
      "application/vnd.databricks.v1+output": {
       "addedWidgets": {},
       "arguments": {},
       "data": "<div class=\"ansiout\"></div>",
       "datasetInfos": [],
       "metadata": {},
       "removedWidgets": [],
       "type": "html"
      }
     },
     "output_type": "display_data"
    }
   ],
   "source": [
    "associations_df = HSContactID_vs_HSCompanyID\n",
    "associations_df = associations_df.rename(columns={'hs_contact_id':'fromObjectId', 'hs_company_id': 'toObjectId'})\n",
    "associations_df['category'] = 'HUBSPOT_DEFINED'\n",
    "associations_df['definitionId'] = 1"
   ]
  },
  {
   "cell_type": "code",
   "execution_count": 0,
   "metadata": {
    "application/vnd.databricks.v1+cell": {
     "cellMetadata": {
      "byteLimit": 2048000,
      "rowLimit": 10000
     },
     "inputWidgets": {},
     "nuid": "a897c8dc-af0d-4ea5-9de5-b278e21688ea",
     "showTitle": false,
     "title": ""
    }
   },
   "outputs": [
    {
     "output_type": "display_data",
     "data": {
      "text/html": [
       "<style scoped>\n",
       "  .ansiout {\n",
       "    display: block;\n",
       "    unicode-bidi: embed;\n",
       "    white-space: pre-wrap;\n",
       "    word-wrap: break-word;\n",
       "    word-break: break-all;\n",
       "    font-family: \"Source Code Pro\", \"Menlo\", monospace;;\n",
       "    font-size: 13px;\n",
       "    color: #555;\n",
       "    margin-left: 4px;\n",
       "    line-height: 19px;\n",
       "  }\n",
       "</style>\n",
       "<div class=\"ansiout\">Out[13]: </div>"
      ]
     },
     "metadata": {
      "application/vnd.databricks.v1+output": {
       "addedWidgets": {},
       "arguments": {},
       "data": "<div class=\"ansiout\">Out[13]: </div>",
       "datasetInfos": [],
       "metadata": {},
       "removedWidgets": [],
       "type": "html"
      }
     },
     "output_type": "display_data"
    },
    {
     "output_type": "display_data",
     "data": {
      "text/html": [
       "<div>\n",
       "<style scoped>\n",
       "    .dataframe tbody tr th:only-of-type {\n",
       "        vertical-align: middle;\n",
       "    }\n",
       "\n",
       "    .dataframe tbody tr th {\n",
       "        vertical-align: top;\n",
       "    }\n",
       "\n",
       "    .dataframe thead th {\n",
       "        text-align: right;\n",
       "    }\n",
       "</style>\n",
       "<table border=\"1\" class=\"dataframe\">\n",
       "  <thead>\n",
       "    <tr style=\"text-align: right;\">\n",
       "      <th></th>\n",
       "      <th>fromObjectId</th>\n",
       "      <th>toObjectId</th>\n",
       "      <th>category</th>\n",
       "      <th>definitionId</th>\n",
       "    </tr>\n",
       "  </thead>\n",
       "  <tbody>\n",
       "    <tr>\n",
       "      <th>0</th>\n",
       "      <td>63204</td>\n",
       "      <td>8049606872</td>\n",
       "      <td>HUBSPOT_DEFINED</td>\n",
       "      <td>1</td>\n",
       "    </tr>\n",
       "    <tr>\n",
       "      <th>1</th>\n",
       "      <td>74086</td>\n",
       "      <td>8049606872</td>\n",
       "      <td>HUBSPOT_DEFINED</td>\n",
       "      <td>1</td>\n",
       "    </tr>\n",
       "    <tr>\n",
       "      <th>2</th>\n",
       "      <td>74279</td>\n",
       "      <td>8049606872</td>\n",
       "      <td>HUBSPOT_DEFINED</td>\n",
       "      <td>1</td>\n",
       "    </tr>\n",
       "    <tr>\n",
       "      <th>3</th>\n",
       "      <td>63207</td>\n",
       "      <td>8049538500</td>\n",
       "      <td>HUBSPOT_DEFINED</td>\n",
       "      <td>1</td>\n",
       "    </tr>\n",
       "    <tr>\n",
       "      <th>4</th>\n",
       "      <td>68072</td>\n",
       "      <td>8049538500</td>\n",
       "      <td>HUBSPOT_DEFINED</td>\n",
       "      <td>1</td>\n",
       "    </tr>\n",
       "    <tr>\n",
       "      <th>...</th>\n",
       "      <td>...</td>\n",
       "      <td>...</td>\n",
       "      <td>...</td>\n",
       "      <td>...</td>\n",
       "    </tr>\n",
       "    <tr>\n",
       "      <th>8586</th>\n",
       "      <td>75006</td>\n",
       "      <td>8049540066</td>\n",
       "      <td>HUBSPOT_DEFINED</td>\n",
       "      <td>1</td>\n",
       "    </tr>\n",
       "    <tr>\n",
       "      <th>8587</th>\n",
       "      <td>75052</td>\n",
       "      <td>8049607099</td>\n",
       "      <td>HUBSPOT_DEFINED</td>\n",
       "      <td>1</td>\n",
       "    </tr>\n",
       "    <tr>\n",
       "      <th>8588</th>\n",
       "      <td>75055</td>\n",
       "      <td>8049540074</td>\n",
       "      <td>HUBSPOT_DEFINED</td>\n",
       "      <td>1</td>\n",
       "    </tr>\n",
       "    <tr>\n",
       "      <th>8589</th>\n",
       "      <td>75056</td>\n",
       "      <td>8049540061</td>\n",
       "      <td>HUBSPOT_DEFINED</td>\n",
       "      <td>1</td>\n",
       "    </tr>\n",
       "    <tr>\n",
       "      <th>8590</th>\n",
       "      <td>75101</td>\n",
       "      <td>8049606894</td>\n",
       "      <td>HUBSPOT_DEFINED</td>\n",
       "      <td>1</td>\n",
       "    </tr>\n",
       "  </tbody>\n",
       "</table>\n",
       "<p>8591 rows × 4 columns</p>\n",
       "</div>"
      ]
     },
     "metadata": {
      "application/vnd.databricks.v1+output": {
       "addedWidgets": {},
       "arguments": {},
       "data": "<div>\n<style scoped>\n    .dataframe tbody tr th:only-of-type {\n        vertical-align: middle;\n    }\n\n    .dataframe tbody tr th {\n        vertical-align: top;\n    }\n\n    .dataframe thead th {\n        text-align: right;\n    }\n</style>\n<table border=\"1\" class=\"dataframe\">\n  <thead>\n    <tr style=\"text-align: right;\">\n      <th></th>\n      <th>fromObjectId</th>\n      <th>toObjectId</th>\n      <th>category</th>\n      <th>definitionId</th>\n    </tr>\n  </thead>\n  <tbody>\n    <tr>\n      <th>0</th>\n      <td>63204</td>\n      <td>8049606872</td>\n      <td>HUBSPOT_DEFINED</td>\n      <td>1</td>\n    </tr>\n    <tr>\n      <th>1</th>\n      <td>74086</td>\n      <td>8049606872</td>\n      <td>HUBSPOT_DEFINED</td>\n      <td>1</td>\n    </tr>\n    <tr>\n      <th>2</th>\n      <td>74279</td>\n      <td>8049606872</td>\n      <td>HUBSPOT_DEFINED</td>\n      <td>1</td>\n    </tr>\n    <tr>\n      <th>3</th>\n      <td>63207</td>\n      <td>8049538500</td>\n      <td>HUBSPOT_DEFINED</td>\n      <td>1</td>\n    </tr>\n    <tr>\n      <th>4</th>\n      <td>68072</td>\n      <td>8049538500</td>\n      <td>HUBSPOT_DEFINED</td>\n      <td>1</td>\n    </tr>\n    <tr>\n      <th>...</th>\n      <td>...</td>\n      <td>...</td>\n      <td>...</td>\n      <td>...</td>\n    </tr>\n    <tr>\n      <th>8586</th>\n      <td>75006</td>\n      <td>8049540066</td>\n      <td>HUBSPOT_DEFINED</td>\n      <td>1</td>\n    </tr>\n    <tr>\n      <th>8587</th>\n      <td>75052</td>\n      <td>8049607099</td>\n      <td>HUBSPOT_DEFINED</td>\n      <td>1</td>\n    </tr>\n    <tr>\n      <th>8588</th>\n      <td>75055</td>\n      <td>8049540074</td>\n      <td>HUBSPOT_DEFINED</td>\n      <td>1</td>\n    </tr>\n    <tr>\n      <th>8589</th>\n      <td>75056</td>\n      <td>8049540061</td>\n      <td>HUBSPOT_DEFINED</td>\n      <td>1</td>\n    </tr>\n    <tr>\n      <th>8590</th>\n      <td>75101</td>\n      <td>8049606894</td>\n      <td>HUBSPOT_DEFINED</td>\n      <td>1</td>\n    </tr>\n  </tbody>\n</table>\n<p>8591 rows × 4 columns</p>\n</div>",
       "datasetInfos": [],
       "metadata": {},
       "removedWidgets": [],
       "textData": null,
       "type": "htmlSandbox"
      }
     },
     "output_type": "display_data"
    }
   ],
   "source": [
    "associations_df"
   ]
  },
  {
   "cell_type": "code",
   "execution_count": 0,
   "metadata": {
    "application/vnd.databricks.v1+cell": {
     "cellMetadata": {
      "byteLimit": 2048000,
      "rowLimit": 10000
     },
     "inputWidgets": {},
     "nuid": "c7128cfc-a518-48f6-bb77-e04635724b01",
     "showTitle": false,
     "title": ""
    }
   },
   "outputs": [
    {
     "output_type": "display_data",
     "data": {
      "text/html": [
       "<style scoped>\n",
       "  .ansiout {\n",
       "    display: block;\n",
       "    unicode-bidi: embed;\n",
       "    white-space: pre-wrap;\n",
       "    word-wrap: break-word;\n",
       "    word-break: break-all;\n",
       "    font-family: \"Source Code Pro\", \"Menlo\", monospace;;\n",
       "    font-size: 13px;\n",
       "    color: #555;\n",
       "    margin-left: 4px;\n",
       "    line-height: 19px;\n",
       "  }\n",
       "</style>\n",
       "<div class=\"ansiout\"></div>"
      ]
     },
     "metadata": {
      "application/vnd.databricks.v1+output": {
       "addedWidgets": {},
       "arguments": {},
       "data": "<div class=\"ansiout\"></div>",
       "datasetInfos": [],
       "metadata": {},
       "removedWidgets": [],
       "type": "html"
      }
     },
     "output_type": "display_data"
    }
   ],
   "source": [
    "associations_records = associations_df.to_dict(orient='records')"
   ]
  },
  {
   "cell_type": "code",
   "execution_count": 0,
   "metadata": {
    "application/vnd.databricks.v1+cell": {
     "cellMetadata": {
      "byteLimit": 2048000,
      "rowLimit": 10000
     },
     "inputWidgets": {},
     "nuid": "b286f2ec-1b83-4ef2-8441-e7c5d89045db",
     "showTitle": false,
     "title": ""
    }
   },
   "outputs": [
    {
     "output_type": "display_data",
     "data": {
      "text/html": [
       "<style scoped>\n",
       "  .ansiout {\n",
       "    display: block;\n",
       "    unicode-bidi: embed;\n",
       "    white-space: pre-wrap;\n",
       "    word-wrap: break-word;\n",
       "    word-break: break-all;\n",
       "    font-family: \"Source Code Pro\", \"Menlo\", monospace;;\n",
       "    font-size: 13px;\n",
       "    color: #555;\n",
       "    margin-left: 4px;\n",
       "    line-height: 19px;\n",
       "  }\n",
       "</style>\n",
       "<div class=\"ansiout\"></div>"
      ]
     },
     "metadata": {
      "application/vnd.databricks.v1+output": {
       "addedWidgets": {},
       "arguments": {},
       "data": "<div class=\"ansiout\"></div>",
       "datasetInfos": [],
       "metadata": {},
       "removedWidgets": [],
       "type": "html"
      }
     },
     "output_type": "display_data"
    }
   ],
   "source": [
    "def split_list_into_chunks(lst, chunk_size):\n",
    "    \"\"\"\n",
    "    Split a list into chunks of a specified size.\n",
    "    \n",
    "    Args:\n",
    "        lst (list): The list to split.\n",
    "        chunk_size (int): The size of each chunk.\n",
    "    \n",
    "    Returns:\n",
    "        list: A list of lists, where each inner list represents a chunk.\n",
    "    \"\"\"\n",
    "    return [lst[i:i + chunk_size] for i in range(0, len(lst), chunk_size)]"
   ]
  },
  {
   "cell_type": "code",
   "execution_count": 0,
   "metadata": {
    "application/vnd.databricks.v1+cell": {
     "cellMetadata": {
      "byteLimit": 2048000,
      "rowLimit": 10000
     },
     "inputWidgets": {},
     "nuid": "ce6965da-7209-49d1-baaf-1e78fbc6b404",
     "showTitle": false,
     "title": ""
    }
   },
   "outputs": [
    {
     "output_type": "display_data",
     "data": {
      "text/html": [
       "<style scoped>\n",
       "  .ansiout {\n",
       "    display: block;\n",
       "    unicode-bidi: embed;\n",
       "    white-space: pre-wrap;\n",
       "    word-wrap: break-word;\n",
       "    word-break: break-all;\n",
       "    font-family: \"Source Code Pro\", \"Menlo\", monospace;;\n",
       "    font-size: 13px;\n",
       "    color: #555;\n",
       "    margin-left: 4px;\n",
       "    line-height: 19px;\n",
       "  }\n",
       "</style>\n",
       "<div class=\"ansiout\"></div>"
      ]
     },
     "metadata": {
      "application/vnd.databricks.v1+output": {
       "addedWidgets": {},
       "arguments": {},
       "data": "<div class=\"ansiout\"></div>",
       "datasetInfos": [],
       "metadata": {},
       "removedWidgets": [],
       "type": "html"
      }
     },
     "output_type": "display_data"
    }
   ],
   "source": [
    "import requests\n",
    "import json\n",
    "\n",
    "\n",
    "UPLOAD_API_TOKEN = dbutils.secrets.get(scope=\"key-vault-secrets\",key=\"upload-api-accesstoken\")\n",
    "\n",
    "blob_storage_key = dbutils.secrets.get(scope=\"key-vault-secrets\",key=\"blob-storage-key\")\n",
    "\n",
    "url = 'https://api.hubapi.com/crm-associations/v1/associations/create-batch'\n",
    "\n",
    "\n",
    "def associate_batch(batch, url):\n",
    "    # Convert the contact data to JSON format\n",
    "    data = json.dumps(batch)\n",
    "\n",
    "    # Set up the request headers\n",
    "    headers = {\n",
    "        'Content-Type': 'application/json',\n",
    "        'Authorization': 'Bearer ' + UPLOAD_API_TOKEN\n",
    "    }\n",
    "\n",
    "    # Make the API request\n",
    "    response = requests.put(url, headers=headers, data=data)\n",
    "\n",
    "    # Print the response status code and content\n",
    "    if response.status_code == 204:\n",
    "        print(\"Associations were successfully created in Hubspot.\") \n",
    "    else:\n",
    "        print(\"An error occurred while importing contacts to Hubspot. Status code: \", response.status_code, response.content)"
   ]
  },
  {
   "cell_type": "code",
   "execution_count": 0,
   "metadata": {
    "application/vnd.databricks.v1+cell": {
     "cellMetadata": {
      "byteLimit": 2048000,
      "rowLimit": 10000
     },
     "inputWidgets": {},
     "nuid": "6e7e6e19-18f9-4c94-acc4-ab24ee6a214b",
     "showTitle": false,
     "title": ""
    }
   },
   "outputs": [
    {
     "output_type": "display_data",
     "data": {
      "text/html": [
       "<style scoped>\n",
       "  .ansiout {\n",
       "    display: block;\n",
       "    unicode-bidi: embed;\n",
       "    white-space: pre-wrap;\n",
       "    word-wrap: break-word;\n",
       "    word-break: break-all;\n",
       "    font-family: \"Source Code Pro\", \"Menlo\", monospace;;\n",
       "    font-size: 13px;\n",
       "    color: #555;\n",
       "    margin-left: 4px;\n",
       "    line-height: 19px;\n",
       "  }\n",
       "</style>\n",
       "<div class=\"ansiout\">---------number of batches: 86\n",
       "Associations were successfully created in Hubspot.\n",
       "---------processed batch: 1\n",
       "Associations were successfully created in Hubspot.\n",
       "---------processed batch: 2\n",
       "Associations were successfully created in Hubspot.\n",
       "---------processed batch: 3\n",
       "Associations were successfully created in Hubspot.\n",
       "---------processed batch: 4\n",
       "Associations were successfully created in Hubspot.\n",
       "---------processed batch: 5\n",
       "Associations were successfully created in Hubspot.\n",
       "---------processed batch: 6\n",
       "Associations were successfully created in Hubspot.\n",
       "---------processed batch: 7\n",
       "Associations were successfully created in Hubspot.\n",
       "---------processed batch: 8\n",
       "Associations were successfully created in Hubspot.\n",
       "---------processed batch: 9\n",
       "Associations were successfully created in Hubspot.\n",
       "---------processed batch: 10\n",
       "Associations were successfully created in Hubspot.\n",
       "---------processed batch: 11\n",
       "Associations were successfully created in Hubspot.\n",
       "---------processed batch: 12\n",
       "Associations were successfully created in Hubspot.\n",
       "---------processed batch: 13\n",
       "Associations were successfully created in Hubspot.\n",
       "---------processed batch: 14\n",
       "Associations were successfully created in Hubspot.\n",
       "---------processed batch: 15\n",
       "Associations were successfully created in Hubspot.\n",
       "---------processed batch: 16\n",
       "Associations were successfully created in Hubspot.\n",
       "---------processed batch: 17\n",
       "Associations were successfully created in Hubspot.\n",
       "---------processed batch: 18\n",
       "Associations were successfully created in Hubspot.\n",
       "---------processed batch: 19\n",
       "Associations were successfully created in Hubspot.\n",
       "---------processed batch: 20\n",
       "Associations were successfully created in Hubspot.\n",
       "---------processed batch: 21\n",
       "Associations were successfully created in Hubspot.\n",
       "---------processed batch: 22\n",
       "Associations were successfully created in Hubspot.\n",
       "---------processed batch: 23\n",
       "Associations were successfully created in Hubspot.\n",
       "---------processed batch: 24\n",
       "Associations were successfully created in Hubspot.\n",
       "---------processed batch: 25\n",
       "Associations were successfully created in Hubspot.\n",
       "---------processed batch: 26\n",
       "Associations were successfully created in Hubspot.\n",
       "---------processed batch: 27\n",
       "Associations were successfully created in Hubspot.\n",
       "---------processed batch: 28\n",
       "Associations were successfully created in Hubspot.\n",
       "---------processed batch: 29\n",
       "Associations were successfully created in Hubspot.\n",
       "---------processed batch: 30\n",
       "Associations were successfully created in Hubspot.\n",
       "---------processed batch: 31\n",
       "Associations were successfully created in Hubspot.\n",
       "---------processed batch: 32\n",
       "Associations were successfully created in Hubspot.\n",
       "---------processed batch: 33\n",
       "Associations were successfully created in Hubspot.\n",
       "---------processed batch: 34\n",
       "Associations were successfully created in Hubspot.\n",
       "---------processed batch: 35\n",
       "Associations were successfully created in Hubspot.\n",
       "---------processed batch: 36\n",
       "Associations were successfully created in Hubspot.\n",
       "---------processed batch: 37\n",
       "Associations were successfully created in Hubspot.\n",
       "---------processed batch: 38\n",
       "Associations were successfully created in Hubspot.\n",
       "---------processed batch: 39\n",
       "Associations were successfully created in Hubspot.\n",
       "---------processed batch: 40\n",
       "Associations were successfully created in Hubspot.\n",
       "---------processed batch: 41\n",
       "Associations were successfully created in Hubspot.\n",
       "---------processed batch: 42\n",
       "Associations were successfully created in Hubspot.\n",
       "---------processed batch: 43\n",
       "Associations were successfully created in Hubspot.\n",
       "---------processed batch: 44\n",
       "Associations were successfully created in Hubspot.\n",
       "---------processed batch: 45\n",
       "Associations were successfully created in Hubspot.\n",
       "---------processed batch: 46\n",
       "Associations were successfully created in Hubspot.\n",
       "---------processed batch: 47\n",
       "Associations were successfully created in Hubspot.\n",
       "---------processed batch: 48\n",
       "Associations were successfully created in Hubspot.\n",
       "---------processed batch: 49\n",
       "Associations were successfully created in Hubspot.\n",
       "---------processed batch: 50\n",
       "Associations were successfully created in Hubspot.\n",
       "---------processed batch: 51\n",
       "Associations were successfully created in Hubspot.\n",
       "---------processed batch: 52\n",
       "Associations were successfully created in Hubspot.\n",
       "---------processed batch: 53\n",
       "Associations were successfully created in Hubspot.\n",
       "---------processed batch: 54\n",
       "Associations were successfully created in Hubspot.\n",
       "---------processed batch: 55\n",
       "Associations were successfully created in Hubspot.\n",
       "---------processed batch: 56\n",
       "Associations were successfully created in Hubspot.\n",
       "---------processed batch: 57\n",
       "Associations were successfully created in Hubspot.\n",
       "---------processed batch: 58\n",
       "Associations were successfully created in Hubspot.\n",
       "---------processed batch: 59\n",
       "Associations were successfully created in Hubspot.\n",
       "---------processed batch: 60\n",
       "Associations were successfully created in Hubspot.\n",
       "---------processed batch: 61\n",
       "Associations were successfully created in Hubspot.\n",
       "---------processed batch: 62\n",
       "Associations were successfully created in Hubspot.\n",
       "---------processed batch: 63\n",
       "Associations were successfully created in Hubspot.\n",
       "---------processed batch: 64\n",
       "Associations were successfully created in Hubspot.\n",
       "---------processed batch: 65\n",
       "Associations were successfully created in Hubspot.\n",
       "---------processed batch: 66\n",
       "Associations were successfully created in Hubspot.\n",
       "---------processed batch: 67\n",
       "Associations were successfully created in Hubspot.\n",
       "---------processed batch: 68\n",
       "Associations were successfully created in Hubspot.\n",
       "---------processed batch: 69\n",
       "Associations were successfully created in Hubspot.\n",
       "---------processed batch: 70\n",
       "Associations were successfully created in Hubspot.\n",
       "---------processed batch: 71\n",
       "Associations were successfully created in Hubspot.\n",
       "---------processed batch: 72\n",
       "Associations were successfully created in Hubspot.\n",
       "---------processed batch: 73\n",
       "Associations were successfully created in Hubspot.\n",
       "---------processed batch: 74\n",
       "Associations were successfully created in Hubspot.\n",
       "---------processed batch: 75\n",
       "Associations were successfully created in Hubspot.\n",
       "---------processed batch: 76\n",
       "Associations were successfully created in Hubspot.\n",
       "---------processed batch: 77\n",
       "Associations were successfully created in Hubspot.\n",
       "---------processed batch: 78\n",
       "Associations were successfully created in Hubspot.\n",
       "---------processed batch: 79\n",
       "Associations were successfully created in Hubspot.\n",
       "---------processed batch: 80\n",
       "Associations were successfully created in Hubspot.\n",
       "---------processed batch: 81\n",
       "Associations were successfully created in Hubspot.\n",
       "---------processed batch: 82\n",
       "Associations were successfully created in Hubspot.\n",
       "---------processed batch: 83\n",
       "Associations were successfully created in Hubspot.\n",
       "---------processed batch: 84\n",
       "Associations were successfully created in Hubspot.\n",
       "---------processed batch: 85\n",
       "Associations were successfully created in Hubspot.\n",
       "---------processed batch: 86\n",
       "</div>"
      ]
     },
     "metadata": {
      "application/vnd.databricks.v1+output": {
       "addedWidgets": {},
       "arguments": {},
       "data": "<div class=\"ansiout\">---------number of batches: 86\nAssociations were successfully created in Hubspot.\n---------processed batch: 1\nAssociations were successfully created in Hubspot.\n---------processed batch: 2\nAssociations were successfully created in Hubspot.\n---------processed batch: 3\nAssociations were successfully created in Hubspot.\n---------processed batch: 4\nAssociations were successfully created in Hubspot.\n---------processed batch: 5\nAssociations were successfully created in Hubspot.\n---------processed batch: 6\nAssociations were successfully created in Hubspot.\n---------processed batch: 7\nAssociations were successfully created in Hubspot.\n---------processed batch: 8\nAssociations were successfully created in Hubspot.\n---------processed batch: 9\nAssociations were successfully created in Hubspot.\n---------processed batch: 10\nAssociations were successfully created in Hubspot.\n---------processed batch: 11\nAssociations were successfully created in Hubspot.\n---------processed batch: 12\nAssociations were successfully created in Hubspot.\n---------processed batch: 13\nAssociations were successfully created in Hubspot.\n---------processed batch: 14\nAssociations were successfully created in Hubspot.\n---------processed batch: 15\nAssociations were successfully created in Hubspot.\n---------processed batch: 16\nAssociations were successfully created in Hubspot.\n---------processed batch: 17\nAssociations were successfully created in Hubspot.\n---------processed batch: 18\nAssociations were successfully created in Hubspot.\n---------processed batch: 19\nAssociations were successfully created in Hubspot.\n---------processed batch: 20\nAssociations were successfully created in Hubspot.\n---------processed batch: 21\nAssociations were successfully created in Hubspot.\n---------processed batch: 22\nAssociations were successfully created in Hubspot.\n---------processed batch: 23\nAssociations were successfully created in Hubspot.\n---------processed batch: 24\nAssociations were successfully created in Hubspot.\n---------processed batch: 25\nAssociations were successfully created in Hubspot.\n---------processed batch: 26\nAssociations were successfully created in Hubspot.\n---------processed batch: 27\nAssociations were successfully created in Hubspot.\n---------processed batch: 28\nAssociations were successfully created in Hubspot.\n---------processed batch: 29\nAssociations were successfully created in Hubspot.\n---------processed batch: 30\nAssociations were successfully created in Hubspot.\n---------processed batch: 31\nAssociations were successfully created in Hubspot.\n---------processed batch: 32\nAssociations were successfully created in Hubspot.\n---------processed batch: 33\nAssociations were successfully created in Hubspot.\n---------processed batch: 34\nAssociations were successfully created in Hubspot.\n---------processed batch: 35\nAssociations were successfully created in Hubspot.\n---------processed batch: 36\nAssociations were successfully created in Hubspot.\n---------processed batch: 37\nAssociations were successfully created in Hubspot.\n---------processed batch: 38\nAssociations were successfully created in Hubspot.\n---------processed batch: 39\nAssociations were successfully created in Hubspot.\n---------processed batch: 40\nAssociations were successfully created in Hubspot.\n---------processed batch: 41\nAssociations were successfully created in Hubspot.\n---------processed batch: 42\nAssociations were successfully created in Hubspot.\n---------processed batch: 43\nAssociations were successfully created in Hubspot.\n---------processed batch: 44\nAssociations were successfully created in Hubspot.\n---------processed batch: 45\nAssociations were successfully created in Hubspot.\n---------processed batch: 46\nAssociations were successfully created in Hubspot.\n---------processed batch: 47\nAssociations were successfully created in Hubspot.\n---------processed batch: 48\nAssociations were successfully created in Hubspot.\n---------processed batch: 49\nAssociations were successfully created in Hubspot.\n---------processed batch: 50\nAssociations were successfully created in Hubspot.\n---------processed batch: 51\nAssociations were successfully created in Hubspot.\n---------processed batch: 52\nAssociations were successfully created in Hubspot.\n---------processed batch: 53\nAssociations were successfully created in Hubspot.\n---------processed batch: 54\nAssociations were successfully created in Hubspot.\n---------processed batch: 55\nAssociations were successfully created in Hubspot.\n---------processed batch: 56\nAssociations were successfully created in Hubspot.\n---------processed batch: 57\nAssociations were successfully created in Hubspot.\n---------processed batch: 58\nAssociations were successfully created in Hubspot.\n---------processed batch: 59\nAssociations were successfully created in Hubspot.\n---------processed batch: 60\nAssociations were successfully created in Hubspot.\n---------processed batch: 61\nAssociations were successfully created in Hubspot.\n---------processed batch: 62\nAssociations were successfully created in Hubspot.\n---------processed batch: 63\nAssociations were successfully created in Hubspot.\n---------processed batch: 64\nAssociations were successfully created in Hubspot.\n---------processed batch: 65\nAssociations were successfully created in Hubspot.\n---------processed batch: 66\nAssociations were successfully created in Hubspot.\n---------processed batch: 67\nAssociations were successfully created in Hubspot.\n---------processed batch: 68\nAssociations were successfully created in Hubspot.\n---------processed batch: 69\nAssociations were successfully created in Hubspot.\n---------processed batch: 70\nAssociations were successfully created in Hubspot.\n---------processed batch: 71\nAssociations were successfully created in Hubspot.\n---------processed batch: 72\nAssociations were successfully created in Hubspot.\n---------processed batch: 73\nAssociations were successfully created in Hubspot.\n---------processed batch: 74\nAssociations were successfully created in Hubspot.\n---------processed batch: 75\nAssociations were successfully created in Hubspot.\n---------processed batch: 76\nAssociations were successfully created in Hubspot.\n---------processed batch: 77\nAssociations were successfully created in Hubspot.\n---------processed batch: 78\nAssociations were successfully created in Hubspot.\n---------processed batch: 79\nAssociations were successfully created in Hubspot.\n---------processed batch: 80\nAssociations were successfully created in Hubspot.\n---------processed batch: 81\nAssociations were successfully created in Hubspot.\n---------processed batch: 82\nAssociations were successfully created in Hubspot.\n---------processed batch: 83\nAssociations were successfully created in Hubspot.\n---------processed batch: 84\nAssociations were successfully created in Hubspot.\n---------processed batch: 85\nAssociations were successfully created in Hubspot.\n---------processed batch: 86\n</div>",
       "datasetInfos": [],
       "metadata": {},
       "removedWidgets": [],
       "type": "html"
      }
     },
     "output_type": "display_data"
    }
   ],
   "source": [
    "counter = 1\n",
    "batches_to_associate = split_list_into_chunks(associations_records, 100)\n",
    "print('---------number of batches:', len(batches_to_associate))\n",
    "for batch in batches_to_associate:\n",
    "    associate_batch(batch, url)\n",
    "    print('---------processed batch:', counter)\n",
    "    counter+=1"
   ]
  }
 ],
 "metadata": {
  "application/vnd.databricks.v1+notebook": {
   "dashboards": [],
   "language": "python",
   "notebookMetadata": {
    "pythonIndentUnit": 4
   },
   "notebookName": "3_associate_contactid_companyid",
   "widgets": {}
  }
 },
 "nbformat": 4,
 "nbformat_minor": 0
}
