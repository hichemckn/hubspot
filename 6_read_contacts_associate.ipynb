{
 "cells": [
  {
   "cell_type": "code",
   "execution_count": 0,
   "metadata": {
    "application/vnd.databricks.v1+cell": {
     "cellMetadata": {
      "byteLimit": 2048000,
      "rowLimit": 10000
     },
     "inputWidgets": {},
     "nuid": "f881d3f8-21a1-43ff-bcc2-f64b66965905",
     "showTitle": false,
     "title": ""
    }
   },
   "outputs": [
    {
     "output_type": "display_data",
     "data": {
      "text/html": [
       "<style scoped>\n",
       "  .ansiout {\n",
       "    display: block;\n",
       "    unicode-bidi: embed;\n",
       "    white-space: pre-wrap;\n",
       "    word-wrap: break-word;\n",
       "    word-break: break-all;\n",
       "    font-family: \"Source Code Pro\", \"Menlo\", monospace;;\n",
       "    font-size: 13px;\n",
       "    color: #555;\n",
       "    margin-left: 4px;\n",
       "    line-height: 19px;\n",
       "  }\n",
       "</style>\n",
       "<div class=\"ansiout\">Python interpreter will be restarted.\n",
       "Collecting hubspot\n",
       "  Downloading hubspot-0.1.14dev.tar.gz (6.1 kB)\n",
       "  Preparing metadata (setup.py): started\n",
       "  Preparing metadata (setup.py): finished with status &#39;done&#39;\n",
       "Building wheels for collected packages: hubspot\n",
       "  Building wheel for hubspot (setup.py): started\n",
       "  Building wheel for hubspot (setup.py): finished with status &#39;done&#39;\n",
       "  Created wheel for hubspot: filename=hubspot-0.1.14.dev0-py3-none-any.whl size=10460 sha256=2422bb41a28669b97eab97e01b80f65e3ab63c1d3616c8ada2cc8a624b8d191f\n",
       "  Stored in directory: /root/.cache/pip/wheels/c9/33/17/099d81e765584c9cf57e3624e5cb300a8f3d21f57b577098a1\n",
       "Successfully built hubspot\n",
       "Installing collected packages: hubspot\n",
       "Successfully installed hubspot-0.1.14.dev0\n",
       "Python interpreter will be restarted.\n",
       "</div>"
      ]
     },
     "metadata": {
      "application/vnd.databricks.v1+output": {
       "addedWidgets": {},
       "arguments": {},
       "data": "<div class=\"ansiout\">Python interpreter will be restarted.\nCollecting hubspot\n  Downloading hubspot-0.1.14dev.tar.gz (6.1 kB)\n  Preparing metadata (setup.py): started\n  Preparing metadata (setup.py): finished with status &#39;done&#39;\nBuilding wheels for collected packages: hubspot\n  Building wheel for hubspot (setup.py): started\n  Building wheel for hubspot (setup.py): finished with status &#39;done&#39;\n  Created wheel for hubspot: filename=hubspot-0.1.14.dev0-py3-none-any.whl size=10460 sha256=2422bb41a28669b97eab97e01b80f65e3ab63c1d3616c8ada2cc8a624b8d191f\n  Stored in directory: /root/.cache/pip/wheels/c9/33/17/099d81e765584c9cf57e3624e5cb300a8f3d21f57b577098a1\nSuccessfully built hubspot\nInstalling collected packages: hubspot\nSuccessfully installed hubspot-0.1.14.dev0\nPython interpreter will be restarted.\n</div>",
       "datasetInfos": [],
       "metadata": {},
       "removedWidgets": [],
       "type": "html"
      }
     },
     "output_type": "display_data"
    }
   ],
   "source": [
    "pip install hubspot"
   ]
  },
  {
   "cell_type": "code",
   "execution_count": 0,
   "metadata": {
    "application/vnd.databricks.v1+cell": {
     "cellMetadata": {
      "byteLimit": 2048000,
      "rowLimit": 10000
     },
     "inputWidgets": {},
     "nuid": "a82a2c5a-fc6d-43c0-8418-e72afd0cad33",
     "showTitle": false,
     "title": ""
    }
   },
   "outputs": [
    {
     "output_type": "display_data",
     "data": {
      "text/html": [
       "<style scoped>\n",
       "  .ansiout {\n",
       "    display: block;\n",
       "    unicode-bidi: embed;\n",
       "    white-space: pre-wrap;\n",
       "    word-wrap: break-word;\n",
       "    word-break: break-all;\n",
       "    font-family: \"Source Code Pro\", \"Menlo\", monospace;;\n",
       "    font-size: 13px;\n",
       "    color: #555;\n",
       "    margin-left: 4px;\n",
       "    line-height: 19px;\n",
       "  }\n",
       "</style>\n",
       "<div class=\"ansiout\">Python interpreter will be restarted.\n",
       "Collecting hubspot-api-client\n",
       "  Downloading hubspot_api_client-8.0.0-py3-none-any.whl (3.4 MB)\n",
       "     ━━━━━━━━━━━━━━━━━━━━━━━━━━━━━━━━━━━━━━━━ 3.4/3.4 MB 33.9 MB/s eta 0:00:00\n",
       "Requirement already satisfied: urllib3&gt;=1.15 in /databricks/python3/lib/python3.8/site-packages (from hubspot-api-client) (1.25.11)\n",
       "Requirement already satisfied: six&gt;=1.10 in /databricks/python3/lib/python3.8/site-packages (from hubspot-api-client) (1.15.0)\n",
       "Requirement already satisfied: certifi in /databricks/python3/lib/python3.8/site-packages (from hubspot-api-client) (2020.12.5)\n",
       "Requirement already satisfied: python-dateutil in /databricks/python3/lib/python3.8/site-packages (from hubspot-api-client) (2.8.1)\n",
       "Installing collected packages: hubspot-api-client\n",
       "Successfully installed hubspot-api-client-8.0.0\n",
       "Python interpreter will be restarted.\n",
       "</div>"
      ]
     },
     "metadata": {
      "application/vnd.databricks.v1+output": {
       "addedWidgets": {},
       "arguments": {},
       "data": "<div class=\"ansiout\">Python interpreter will be restarted.\nCollecting hubspot-api-client\n  Downloading hubspot_api_client-8.0.0-py3-none-any.whl (3.4 MB)\n     ━━━━━━━━━━━━━━━━━━━━━━━━━━━━━━━━━━━━━━━━ 3.4/3.4 MB 33.9 MB/s eta 0:00:00\nRequirement already satisfied: urllib3&gt;=1.15 in /databricks/python3/lib/python3.8/site-packages (from hubspot-api-client) (1.25.11)\nRequirement already satisfied: six&gt;=1.10 in /databricks/python3/lib/python3.8/site-packages (from hubspot-api-client) (1.15.0)\nRequirement already satisfied: certifi in /databricks/python3/lib/python3.8/site-packages (from hubspot-api-client) (2020.12.5)\nRequirement already satisfied: python-dateutil in /databricks/python3/lib/python3.8/site-packages (from hubspot-api-client) (2.8.1)\nInstalling collected packages: hubspot-api-client\nSuccessfully installed hubspot-api-client-8.0.0\nPython interpreter will be restarted.\n</div>",
       "datasetInfos": [],
       "metadata": {},
       "removedWidgets": [],
       "type": "html"
      }
     },
     "output_type": "display_data"
    }
   ],
   "source": [
    "pip install hubspot-api-client"
   ]
  },
  {
   "cell_type": "code",
   "execution_count": 0,
   "metadata": {
    "application/vnd.databricks.v1+cell": {
     "cellMetadata": {
      "byteLimit": 2048000,
      "rowLimit": 10000
     },
     "inputWidgets": {},
     "nuid": "89733830-cfd9-43d3-a0fc-ce1a1458bc14",
     "showTitle": false,
     "title": ""
    }
   },
   "outputs": [
    {
     "output_type": "display_data",
     "data": {
      "text/html": [
       "<style scoped>\n",
       "  .ansiout {\n",
       "    display: block;\n",
       "    unicode-bidi: embed;\n",
       "    white-space: pre-wrap;\n",
       "    word-wrap: break-word;\n",
       "    word-break: break-all;\n",
       "    font-family: \"Source Code Pro\", \"Menlo\", monospace;;\n",
       "    font-size: 13px;\n",
       "    color: #555;\n",
       "    margin-left: 4px;\n",
       "    line-height: 19px;\n",
       "  }\n",
       "</style>\n",
       "<div class=\"ansiout\"></div>"
      ]
     },
     "metadata": {
      "application/vnd.databricks.v1+output": {
       "addedWidgets": {},
       "arguments": {},
       "data": "<div class=\"ansiout\"></div>",
       "datasetInfos": [],
       "metadata": {},
       "removedWidgets": [],
       "type": "html"
      }
     },
     "output_type": "display_data"
    },
    {
     "output_type": "display_data",
     "data": {
      "text/html": [
       "<style scoped>\n",
       "  .ansiout {\n",
       "    display: block;\n",
       "    unicode-bidi: embed;\n",
       "    white-space: pre-wrap;\n",
       "    word-wrap: break-word;\n",
       "    word-break: break-all;\n",
       "    font-family: \"Source Code Pro\", \"Menlo\", monospace;;\n",
       "    font-size: 13px;\n",
       "    color: #555;\n",
       "    margin-left: 4px;\n",
       "    line-height: 19px;\n",
       "  }\n",
       "</style>\n",
       "<div class=\"ansiout\"><span class=\"ansi-red-fg\">---------------------------------------------------------------------------</span>\n",
       "<span class=\"ansi-red-fg\">ModuleNotFoundError</span>                       Traceback (most recent call last)\n",
       "<span class=\"ansi-green-fg\">&lt;command-1568053753876927&gt;</span> in <span class=\"ansi-cyan-fg\">&lt;module&gt;</span>\n",
       "<span class=\"ansi-green-fg\">----&gt; 1</span><span class=\"ansi-red-fg\"> </span><span class=\"ansi-green-fg\">import</span> hubspot\n",
       "<span class=\"ansi-green-intense-fg ansi-bold\">      2</span> <span class=\"ansi-green-fg\">from</span> pprint <span class=\"ansi-green-fg\">import</span> pprint\n",
       "<span class=\"ansi-green-intense-fg ansi-bold\">      3</span> <span class=\"ansi-green-fg\">from</span> hubspot<span class=\"ansi-blue-fg\">.</span>crm<span class=\"ansi-blue-fg\">.</span>contacts <span class=\"ansi-green-fg\">import</span> BatchInputSimplePublicObjectId<span class=\"ansi-blue-fg\">,</span> ApiException\n",
       "\n",
       "<span class=\"ansi-green-fg\">/databricks/python_shell/dbruntime/PythonPackageImportsInstrumentation/__init__.py</span> in <span class=\"ansi-cyan-fg\">import_patch</span><span class=\"ansi-blue-fg\">(name, globals, locals, fromlist, level)</span>\n",
       "<span class=\"ansi-green-intense-fg ansi-bold\">    160</span>             <span class=\"ansi-red-fg\"># Import the desired module. If you’re seeing this while debugging a failed import,</span>\n",
       "<span class=\"ansi-green-intense-fg ansi-bold\">    161</span>             <span class=\"ansi-red-fg\"># look at preceding stack frames for relevant error information.</span>\n",
       "<span class=\"ansi-green-fg\">--&gt; 162</span><span class=\"ansi-red-fg\">             </span>original_result <span class=\"ansi-blue-fg\">=</span> python_builtin_import<span class=\"ansi-blue-fg\">(</span>name<span class=\"ansi-blue-fg\">,</span> globals<span class=\"ansi-blue-fg\">,</span> locals<span class=\"ansi-blue-fg\">,</span> fromlist<span class=\"ansi-blue-fg\">,</span> level<span class=\"ansi-blue-fg\">)</span>\n",
       "<span class=\"ansi-green-intense-fg ansi-bold\">    163</span> \n",
       "<span class=\"ansi-green-intense-fg ansi-bold\">    164</span>             is_root_import <span class=\"ansi-blue-fg\">=</span> thread_local<span class=\"ansi-blue-fg\">.</span>_nest_level <span class=\"ansi-blue-fg\">==</span> <span class=\"ansi-cyan-fg\">1</span>\n",
       "\n",
       "<span class=\"ansi-red-fg\">ModuleNotFoundError</span>: No module named &#39;hubspot&#39;</div>"
      ]
     },
     "metadata": {
      "application/vnd.databricks.v1+output": {
       "arguments": {},
       "data": "<div class=\"ansiout\"><span class=\"ansi-red-fg\">---------------------------------------------------------------------------</span>\n<span class=\"ansi-red-fg\">ModuleNotFoundError</span>                       Traceback (most recent call last)\n<span class=\"ansi-green-fg\">&lt;command-1568053753876927&gt;</span> in <span class=\"ansi-cyan-fg\">&lt;module&gt;</span>\n<span class=\"ansi-green-fg\">----&gt; 1</span><span class=\"ansi-red-fg\"> </span><span class=\"ansi-green-fg\">import</span> hubspot\n<span class=\"ansi-green-intense-fg ansi-bold\">      2</span> <span class=\"ansi-green-fg\">from</span> pprint <span class=\"ansi-green-fg\">import</span> pprint\n<span class=\"ansi-green-intense-fg ansi-bold\">      3</span> <span class=\"ansi-green-fg\">from</span> hubspot<span class=\"ansi-blue-fg\">.</span>crm<span class=\"ansi-blue-fg\">.</span>contacts <span class=\"ansi-green-fg\">import</span> BatchInputSimplePublicObjectId<span class=\"ansi-blue-fg\">,</span> ApiException\n\n<span class=\"ansi-green-fg\">/databricks/python_shell/dbruntime/PythonPackageImportsInstrumentation/__init__.py</span> in <span class=\"ansi-cyan-fg\">import_patch</span><span class=\"ansi-blue-fg\">(name, globals, locals, fromlist, level)</span>\n<span class=\"ansi-green-intense-fg ansi-bold\">    160</span>             <span class=\"ansi-red-fg\"># Import the desired module. If you’re seeing this while debugging a failed import,</span>\n<span class=\"ansi-green-intense-fg ansi-bold\">    161</span>             <span class=\"ansi-red-fg\"># look at preceding stack frames for relevant error information.</span>\n<span class=\"ansi-green-fg\">--&gt; 162</span><span class=\"ansi-red-fg\">             </span>original_result <span class=\"ansi-blue-fg\">=</span> python_builtin_import<span class=\"ansi-blue-fg\">(</span>name<span class=\"ansi-blue-fg\">,</span> globals<span class=\"ansi-blue-fg\">,</span> locals<span class=\"ansi-blue-fg\">,</span> fromlist<span class=\"ansi-blue-fg\">,</span> level<span class=\"ansi-blue-fg\">)</span>\n<span class=\"ansi-green-intense-fg ansi-bold\">    163</span> \n<span class=\"ansi-green-intense-fg ansi-bold\">    164</span>             is_root_import <span class=\"ansi-blue-fg\">=</span> thread_local<span class=\"ansi-blue-fg\">.</span>_nest_level <span class=\"ansi-blue-fg\">==</span> <span class=\"ansi-cyan-fg\">1</span>\n\n<span class=\"ansi-red-fg\">ModuleNotFoundError</span>: No module named &#39;hubspot&#39;</div>",
       "errorSummary": "<span class=\"ansi-red-fg\">ModuleNotFoundError</span>: No module named &#39;hubspot&#39;",
       "errorTraceType": "html",
       "metadata": {},
       "type": "ipynbError"
      }
     },
     "output_type": "display_data"
    }
   ],
   "source": [
    "import hubspot\n",
    "from pprint import pprint\n",
    "from hubspot.crm.contacts import BatchInputSimplePublicObjectId, ApiException"
   ]
  },
  {
   "cell_type": "code",
   "execution_count": 0,
   "metadata": {
    "application/vnd.databricks.v1+cell": {
     "cellMetadata": {},
     "inputWidgets": {},
     "nuid": "9cb5c43c-bd2f-4501-a2d9-21c34017baa0",
     "showTitle": false,
     "title": ""
    }
   },
   "outputs": [],
   "source": [
    "api_read_key = dbutils.secrets.get(scope=\"key-vault-secrets\",key=\"api-accesstoken\")\n",
    "client_read = hubspot.Client.create(access_token=api_read_key)"
   ]
  },
  {
   "cell_type": "code",
   "execution_count": 0,
   "metadata": {
    "application/vnd.databricks.v1+cell": {
     "cellMetadata": {},
     "inputWidgets": {},
     "nuid": "1dd9b2f8-1c5d-4af6-9d47-e3b00bff83bd",
     "showTitle": false,
     "title": ""
    }
   },
   "outputs": [],
   "source": [
    "api_upload_key = dbutils.secrets.get(scope=\"key-vault-secrets\",key=\"upload-api-accesstoken\")\n",
    "client_upload = hubspot.Client.create(access_token=api_upload_key)"
   ]
  },
  {
   "cell_type": "code",
   "execution_count": 0,
   "metadata": {
    "application/vnd.databricks.v1+cell": {
     "cellMetadata": {},
     "inputWidgets": {},
     "nuid": "f3f3132e-0358-4108-9049-72c14b7796c1",
     "showTitle": false,
     "title": ""
    }
   },
   "outputs": [],
   "source": [
    "def get_contacts_batches_list(client_read):\n",
    "    batches_list = []\n",
    "    next_after = None\n",
    "    while True:\n",
    "        api_response = client_read.crm.contacts.basic_api.get_page(limit=100, archived=False, after=next_after)\n",
    "        paging = api_response.paging\n",
    "        results = api_response.results \n",
    "        if results == []:\n",
    "            break\n",
    "        else:\n",
    "            if paging != None:   \n",
    "                next_after = api_response.paging.next.after\n",
    "                contacts_batch = []     \n",
    "                for c in results:\n",
    "                    contacts_batch.append(c.id)\n",
    "                batches_list.append(contacts_batch)\n",
    "            else:\n",
    "                contacts_batch = []     \n",
    "                for c in results:\n",
    "                    contacts_batch.append(c.id)\n",
    "                batches_list.append(contacts_batch)\n",
    "                break\n",
    "    return batches_list"
   ]
  },
  {
   "cell_type": "code",
   "execution_count": 0,
   "metadata": {
    "application/vnd.databricks.v1+cell": {
     "cellMetadata": {},
     "inputWidgets": {},
     "nuid": "77e4ed8c-47a5-4191-bee7-1f49526be6ec",
     "showTitle": false,
     "title": ""
    }
   },
   "outputs": [],
   "source": []
  }
 ],
 "metadata": {
  "application/vnd.databricks.v1+notebook": {
   "dashboards": [],
   "language": "python",
   "notebookMetadata": {
    "pythonIndentUnit": 4
   },
   "notebookName": "6_read_contacts_associate",
   "widgets": {}
  }
 },
 "nbformat": 4,
 "nbformat_minor": 0
}
